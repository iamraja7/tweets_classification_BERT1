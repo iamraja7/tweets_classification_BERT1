{
  "cells": [
    {
      "cell_type": "markdown",
      "id": "0280ad65",
      "metadata": {
        "id": "0280ad65"
      },
      "source": [
        "# NLP - Text Classification\n",
        "### Corona Virus Tagged tweets text data"
      ]
    },
    {
      "cell_type": "markdown",
      "id": "b958550f",
      "metadata": {
        "id": "b958550f"
      },
      "source": [
        "**Task**  \n",
        "Perform Text Classification on the tweets pulled from Twitter."
      ]
    },
    {
      "cell_type": "markdown",
      "id": "61fa8f69",
      "metadata": {
        "id": "61fa8f69"
      },
      "source": [
        "**Models**  \n",
        "I used a baseline Naive Bayes model and a Neural Network archiecture using DistilBERT as the embedding layer with a LSTM and Dense layers following. I used huggingface's transformers library and tensorflow for the deep learning model and scikit-learn for the naive bayes model. I also used GPU acceleration for training the neural network. "
      ]
    },
    {
      "cell_type": "markdown",
      "id": "b343588e",
      "metadata": {
        "id": "b343588e"
      },
      "source": [
        "<hr>"
      ]
    },
    {
      "cell_type": "markdown",
      "source": [
        "#Block 1"
      ],
      "metadata": {
        "id": "-7tQHfl55Iup"
      },
      "id": "-7tQHfl55Iup"
    },
    {
      "cell_type": "markdown",
      "id": "28afa396",
      "metadata": {
        "id": "28afa396"
      },
      "source": [
        "**Imports**"
      ]
    },
    {
      "cell_type": "code",
      "source": [
        "! pip install transformers"
      ],
      "metadata": {
        "id": "u5AuB6upsDKb",
        "outputId": "63b96983-2dba-4112-80bf-93388ca0ff97",
        "colab": {
          "base_uri": "https://localhost:8080/"
        }
      },
      "id": "u5AuB6upsDKb",
      "execution_count": 1,
      "outputs": [
        {
          "output_type": "stream",
          "name": "stdout",
          "text": [
            "Looking in indexes: https://pypi.org/simple, https://us-python.pkg.dev/colab-wheels/public/simple/\n",
            "Collecting transformers\n",
            "  Downloading transformers-4.25.1-py3-none-any.whl (5.8 MB)\n",
            "\u001b[K     |████████████████████████████████| 5.8 MB 693 kB/s \n",
            "\u001b[?25hRequirement already satisfied: packaging>=20.0 in /usr/local/lib/python3.8/dist-packages (from transformers) (21.3)\n",
            "Requirement already satisfied: pyyaml>=5.1 in /usr/local/lib/python3.8/dist-packages (from transformers) (6.0)\n",
            "Requirement already satisfied: filelock in /usr/local/lib/python3.8/dist-packages (from transformers) (3.8.0)\n",
            "Collecting tokenizers!=0.11.3,<0.14,>=0.11.1\n",
            "  Downloading tokenizers-0.13.2-cp38-cp38-manylinux_2_17_x86_64.manylinux2014_x86_64.whl (7.6 MB)\n",
            "\u001b[K     |████████████████████████████████| 7.6 MB 64.0 MB/s \n",
            "\u001b[?25hRequirement already satisfied: numpy>=1.17 in /usr/local/lib/python3.8/dist-packages (from transformers) (1.21.6)\n",
            "Requirement already satisfied: regex!=2019.12.17 in /usr/local/lib/python3.8/dist-packages (from transformers) (2022.6.2)\n",
            "Requirement already satisfied: requests in /usr/local/lib/python3.8/dist-packages (from transformers) (2.23.0)\n",
            "Requirement already satisfied: tqdm>=4.27 in /usr/local/lib/python3.8/dist-packages (from transformers) (4.64.1)\n",
            "Collecting huggingface-hub<1.0,>=0.10.0\n",
            "  Downloading huggingface_hub-0.11.1-py3-none-any.whl (182 kB)\n",
            "\u001b[K     |████████████████████████████████| 182 kB 80.1 MB/s \n",
            "\u001b[?25hRequirement already satisfied: typing-extensions>=3.7.4.3 in /usr/local/lib/python3.8/dist-packages (from huggingface-hub<1.0,>=0.10.0->transformers) (4.4.0)\n",
            "Requirement already satisfied: pyparsing!=3.0.5,>=2.0.2 in /usr/local/lib/python3.8/dist-packages (from packaging>=20.0->transformers) (3.0.9)\n",
            "Requirement already satisfied: chardet<4,>=3.0.2 in /usr/local/lib/python3.8/dist-packages (from requests->transformers) (3.0.4)\n",
            "Requirement already satisfied: urllib3!=1.25.0,!=1.25.1,<1.26,>=1.21.1 in /usr/local/lib/python3.8/dist-packages (from requests->transformers) (1.24.3)\n",
            "Requirement already satisfied: idna<3,>=2.5 in /usr/local/lib/python3.8/dist-packages (from requests->transformers) (2.10)\n",
            "Requirement already satisfied: certifi>=2017.4.17 in /usr/local/lib/python3.8/dist-packages (from requests->transformers) (2022.9.24)\n",
            "Installing collected packages: tokenizers, huggingface-hub, transformers\n",
            "Successfully installed huggingface-hub-0.11.1 tokenizers-0.13.2 transformers-4.25.1\n"
          ]
        }
      ]
    },
    {
      "cell_type": "code",
      "execution_count": 2,
      "id": "9843848f",
      "metadata": {
        "id": "9843848f"
      },
      "outputs": [],
      "source": [
        "import os\n",
        "import re\n",
        "import string\n",
        "import numpy as np\n",
        "import pandas as pd\n",
        "import matplotlib.pyplot as plt\n",
        "import seaborn as sns\n",
        "from tqdm import tqdm # Progress Bar\n",
        "import nltk\n",
        "from nltk.corpus import stopwords\n",
        "from nltk.stem.porter import PorterStemmer\n",
        "from sklearn.preprocessing import LabelEncoder\n",
        "from sklearn.feature_extraction.text import TfidfVectorizer\n",
        "from sklearn.naive_bayes import MultinomialNB\n",
        "from sklearn.pipeline import make_pipeline\n",
        "from sklearn.metrics import confusion_matrix, classification_report, accuracy_score\n",
        "import transformers\n",
        "from transformers import DistilBertTokenizer, TFDistilBertModel, DistilBertConfig\n",
        "import tensorflow as tf\n",
        "from tensorflow.keras.callbacks import ModelCheckpoint, ReduceLROnPlateau, EarlyStopping\n",
        "import warnings\n",
        "from transformers import logging as hf_logging\n",
        "hf_logging.set_verbosity_error() # Hidding Huggingface Warnings\n",
        "warnings.filterwarnings(\"ignore\")"
      ]
    },
    {
      "cell_type": "markdown",
      "source": [
        "#Block 2"
      ],
      "metadata": {
        "id": "on8pUtlk5Or2"
      },
      "id": "on8pUtlk5Or2"
    },
    {
      "cell_type": "markdown",
      "id": "9ddddfb3",
      "metadata": {
        "id": "9ddddfb3"
      },
      "source": [
        "Enabling GPU"
      ]
    },
    {
      "cell_type": "code",
      "execution_count": 3,
      "id": "005c32e5",
      "metadata": {
        "id": "005c32e5",
        "outputId": "4dd16454-6ba2-4ab6-96b4-6ba032f68063",
        "colab": {
          "base_uri": "https://localhost:8080/"
        }
      },
      "outputs": [
        {
          "output_type": "stream",
          "name": "stdout",
          "text": [
            "1 Physical GPUs, 1 Logical GPUs\n"
          ]
        }
      ],
      "source": [
        "gpus = tf.config.experimental.list_physical_devices('GPU')\n",
        "if gpus:\n",
        "  try:\n",
        "    # Currently, memory growth needs to be the same across GPUs\n",
        "    for gpu in gpus:\n",
        "      tf.config.experimental.set_memory_growth(gpu, True)\n",
        "    logical_gpus = tf.config.experimental.list_logical_devices('GPU')\n",
        "    print(len(gpus), \"Physical GPUs,\", len(logical_gpus), \"Logical GPUs\")\n",
        "  except RuntimeError as e:\n",
        "    # Memory growth must be set before GPUs have been initialized\n",
        "    print(e)"
      ]
    },
    {
      "cell_type": "code",
      "execution_count": 4,
      "id": "e4fed802",
      "metadata": {
        "id": "e4fed802"
      },
      "outputs": [],
      "source": [
        "plt.style.use('ggplot')"
      ]
    },
    {
      "cell_type": "code",
      "execution_count": 5,
      "id": "5041aeaf",
      "metadata": {
        "id": "5041aeaf"
      },
      "outputs": [],
      "source": [
        "MODEL_NAME = 'distilbert-base-cased'"
      ]
    },
    {
      "cell_type": "markdown",
      "source": [
        "#Block 3"
      ],
      "metadata": {
        "id": "-rMXwlDP5cWP"
      },
      "id": "-rMXwlDP5cWP"
    },
    {
      "cell_type": "markdown",
      "id": "accd5142",
      "metadata": {
        "id": "accd5142"
      },
      "source": [
        "### Loading Data"
      ]
    },
    {
      "cell_type": "code",
      "source": [
        "from google.colab import drive\n",
        "drive.mount('/content/drive')"
      ],
      "metadata": {
        "id": "jJZt-lzRlpkJ",
        "outputId": "bc5f9fe8-b904-479f-d655-7b4b0eae7eab",
        "colab": {
          "base_uri": "https://localhost:8080/"
        }
      },
      "id": "jJZt-lzRlpkJ",
      "execution_count": 6,
      "outputs": [
        {
          "output_type": "stream",
          "name": "stdout",
          "text": [
            "Mounted at /content/drive\n"
          ]
        }
      ]
    },
    {
      "cell_type": "code",
      "execution_count": 7,
      "id": "289f0458",
      "metadata": {
        "id": "289f0458"
      },
      "outputs": [],
      "source": [
        "test_df = pd.read_csv('/content/drive/MyDrive/archive/Corona_NLP_test.csv', encoding = \"UTF-8\", encoding_errors='ignore')\n",
        "train_df = pd.read_csv('/content/drive/MyDrive/archive/Corona_NLP_test.csv', encoding = \"UTF-8\", encoding_errors='ignore')"
      ]
    },
    {
      "cell_type": "code",
      "source": [
        "train_df"
      ],
      "metadata": {
        "id": "cdnznypFl0tZ",
        "outputId": "1d4909eb-0df7-4ec3-8a9b-2585e163942c",
        "colab": {
          "base_uri": "https://localhost:8080/",
          "height": 424
        }
      },
      "id": "cdnznypFl0tZ",
      "execution_count": 8,
      "outputs": [
        {
          "output_type": "execute_result",
          "data": {
            "text/plain": [
              "      UserName  ScreenName             Location     TweetAt  \\\n",
              "0            1       44953                  NYC  02-03-2020   \n",
              "1            2       44954          Seattle, WA  02-03-2020   \n",
              "2            3       44955                  NaN  02-03-2020   \n",
              "3            4       44956          Chicagoland  02-03-2020   \n",
              "4            5       44957  Melbourne, Victoria  03-03-2020   \n",
              "...        ...         ...                  ...         ...   \n",
              "3793      3794       48746            Israel ??  16-03-2020   \n",
              "3794      3795       48747       Farmington, NM  16-03-2020   \n",
              "3795      3796       48748        Haverford, PA  16-03-2020   \n",
              "3796      3797       48749                  NaN  16-03-2020   \n",
              "3797      3798       48750  Arlington, Virginia  16-03-2020   \n",
              "\n",
              "                                          OriginalTweet           Sentiment  \n",
              "0     TRENDING: New Yorkers encounter empty supermar...  Extremely Negative  \n",
              "1     When I couldn't find hand sanitizer at Fred Me...            Positive  \n",
              "2     Find out how you can protect yourself and love...  Extremely Positive  \n",
              "3     #Panic buying hits #NewYork City as anxious sh...            Negative  \n",
              "4     #toiletpaper #dunnypaper #coronavirus #coronav...             Neutral  \n",
              "...                                                 ...                 ...  \n",
              "3793  Meanwhile In A Supermarket in Israel -- People...            Positive  \n",
              "3794  Did you panic buy a lot of non-perishable item...            Negative  \n",
              "3795  Asst Prof of Economics @cconces was on @NBCPhi...             Neutral  \n",
              "3796  Gov need to do somethings instead of biar je r...  Extremely Negative  \n",
              "3797  I and @ForestandPaper members are committed to...  Extremely Positive  \n",
              "\n",
              "[3798 rows x 6 columns]"
            ],
            "text/html": [
              "\n",
              "  <div id=\"df-bfdb4a24-2d4f-414d-8c91-4d38ab19331a\">\n",
              "    <div class=\"colab-df-container\">\n",
              "      <div>\n",
              "<style scoped>\n",
              "    .dataframe tbody tr th:only-of-type {\n",
              "        vertical-align: middle;\n",
              "    }\n",
              "\n",
              "    .dataframe tbody tr th {\n",
              "        vertical-align: top;\n",
              "    }\n",
              "\n",
              "    .dataframe thead th {\n",
              "        text-align: right;\n",
              "    }\n",
              "</style>\n",
              "<table border=\"1\" class=\"dataframe\">\n",
              "  <thead>\n",
              "    <tr style=\"text-align: right;\">\n",
              "      <th></th>\n",
              "      <th>UserName</th>\n",
              "      <th>ScreenName</th>\n",
              "      <th>Location</th>\n",
              "      <th>TweetAt</th>\n",
              "      <th>OriginalTweet</th>\n",
              "      <th>Sentiment</th>\n",
              "    </tr>\n",
              "  </thead>\n",
              "  <tbody>\n",
              "    <tr>\n",
              "      <th>0</th>\n",
              "      <td>1</td>\n",
              "      <td>44953</td>\n",
              "      <td>NYC</td>\n",
              "      <td>02-03-2020</td>\n",
              "      <td>TRENDING: New Yorkers encounter empty supermar...</td>\n",
              "      <td>Extremely Negative</td>\n",
              "    </tr>\n",
              "    <tr>\n",
              "      <th>1</th>\n",
              "      <td>2</td>\n",
              "      <td>44954</td>\n",
              "      <td>Seattle, WA</td>\n",
              "      <td>02-03-2020</td>\n",
              "      <td>When I couldn't find hand sanitizer at Fred Me...</td>\n",
              "      <td>Positive</td>\n",
              "    </tr>\n",
              "    <tr>\n",
              "      <th>2</th>\n",
              "      <td>3</td>\n",
              "      <td>44955</td>\n",
              "      <td>NaN</td>\n",
              "      <td>02-03-2020</td>\n",
              "      <td>Find out how you can protect yourself and love...</td>\n",
              "      <td>Extremely Positive</td>\n",
              "    </tr>\n",
              "    <tr>\n",
              "      <th>3</th>\n",
              "      <td>4</td>\n",
              "      <td>44956</td>\n",
              "      <td>Chicagoland</td>\n",
              "      <td>02-03-2020</td>\n",
              "      <td>#Panic buying hits #NewYork City as anxious sh...</td>\n",
              "      <td>Negative</td>\n",
              "    </tr>\n",
              "    <tr>\n",
              "      <th>4</th>\n",
              "      <td>5</td>\n",
              "      <td>44957</td>\n",
              "      <td>Melbourne, Victoria</td>\n",
              "      <td>03-03-2020</td>\n",
              "      <td>#toiletpaper #dunnypaper #coronavirus #coronav...</td>\n",
              "      <td>Neutral</td>\n",
              "    </tr>\n",
              "    <tr>\n",
              "      <th>...</th>\n",
              "      <td>...</td>\n",
              "      <td>...</td>\n",
              "      <td>...</td>\n",
              "      <td>...</td>\n",
              "      <td>...</td>\n",
              "      <td>...</td>\n",
              "    </tr>\n",
              "    <tr>\n",
              "      <th>3793</th>\n",
              "      <td>3794</td>\n",
              "      <td>48746</td>\n",
              "      <td>Israel ??</td>\n",
              "      <td>16-03-2020</td>\n",
              "      <td>Meanwhile In A Supermarket in Israel -- People...</td>\n",
              "      <td>Positive</td>\n",
              "    </tr>\n",
              "    <tr>\n",
              "      <th>3794</th>\n",
              "      <td>3795</td>\n",
              "      <td>48747</td>\n",
              "      <td>Farmington, NM</td>\n",
              "      <td>16-03-2020</td>\n",
              "      <td>Did you panic buy a lot of non-perishable item...</td>\n",
              "      <td>Negative</td>\n",
              "    </tr>\n",
              "    <tr>\n",
              "      <th>3795</th>\n",
              "      <td>3796</td>\n",
              "      <td>48748</td>\n",
              "      <td>Haverford, PA</td>\n",
              "      <td>16-03-2020</td>\n",
              "      <td>Asst Prof of Economics @cconces was on @NBCPhi...</td>\n",
              "      <td>Neutral</td>\n",
              "    </tr>\n",
              "    <tr>\n",
              "      <th>3796</th>\n",
              "      <td>3797</td>\n",
              "      <td>48749</td>\n",
              "      <td>NaN</td>\n",
              "      <td>16-03-2020</td>\n",
              "      <td>Gov need to do somethings instead of biar je r...</td>\n",
              "      <td>Extremely Negative</td>\n",
              "    </tr>\n",
              "    <tr>\n",
              "      <th>3797</th>\n",
              "      <td>3798</td>\n",
              "      <td>48750</td>\n",
              "      <td>Arlington, Virginia</td>\n",
              "      <td>16-03-2020</td>\n",
              "      <td>I and @ForestandPaper members are committed to...</td>\n",
              "      <td>Extremely Positive</td>\n",
              "    </tr>\n",
              "  </tbody>\n",
              "</table>\n",
              "<p>3798 rows × 6 columns</p>\n",
              "</div>\n",
              "      <button class=\"colab-df-convert\" onclick=\"convertToInteractive('df-bfdb4a24-2d4f-414d-8c91-4d38ab19331a')\"\n",
              "              title=\"Convert this dataframe to an interactive table.\"\n",
              "              style=\"display:none;\">\n",
              "        \n",
              "  <svg xmlns=\"http://www.w3.org/2000/svg\" height=\"24px\"viewBox=\"0 0 24 24\"\n",
              "       width=\"24px\">\n",
              "    <path d=\"M0 0h24v24H0V0z\" fill=\"none\"/>\n",
              "    <path d=\"M18.56 5.44l.94 2.06.94-2.06 2.06-.94-2.06-.94-.94-2.06-.94 2.06-2.06.94zm-11 1L8.5 8.5l.94-2.06 2.06-.94-2.06-.94L8.5 2.5l-.94 2.06-2.06.94zm10 10l.94 2.06.94-2.06 2.06-.94-2.06-.94-.94-2.06-.94 2.06-2.06.94z\"/><path d=\"M17.41 7.96l-1.37-1.37c-.4-.4-.92-.59-1.43-.59-.52 0-1.04.2-1.43.59L10.3 9.45l-7.72 7.72c-.78.78-.78 2.05 0 2.83L4 21.41c.39.39.9.59 1.41.59.51 0 1.02-.2 1.41-.59l7.78-7.78 2.81-2.81c.8-.78.8-2.07 0-2.86zM5.41 20L4 18.59l7.72-7.72 1.47 1.35L5.41 20z\"/>\n",
              "  </svg>\n",
              "      </button>\n",
              "      \n",
              "  <style>\n",
              "    .colab-df-container {\n",
              "      display:flex;\n",
              "      flex-wrap:wrap;\n",
              "      gap: 12px;\n",
              "    }\n",
              "\n",
              "    .colab-df-convert {\n",
              "      background-color: #E8F0FE;\n",
              "      border: none;\n",
              "      border-radius: 50%;\n",
              "      cursor: pointer;\n",
              "      display: none;\n",
              "      fill: #1967D2;\n",
              "      height: 32px;\n",
              "      padding: 0 0 0 0;\n",
              "      width: 32px;\n",
              "    }\n",
              "\n",
              "    .colab-df-convert:hover {\n",
              "      background-color: #E2EBFA;\n",
              "      box-shadow: 0px 1px 2px rgba(60, 64, 67, 0.3), 0px 1px 3px 1px rgba(60, 64, 67, 0.15);\n",
              "      fill: #174EA6;\n",
              "    }\n",
              "\n",
              "    [theme=dark] .colab-df-convert {\n",
              "      background-color: #3B4455;\n",
              "      fill: #D2E3FC;\n",
              "    }\n",
              "\n",
              "    [theme=dark] .colab-df-convert:hover {\n",
              "      background-color: #434B5C;\n",
              "      box-shadow: 0px 1px 3px 1px rgba(0, 0, 0, 0.15);\n",
              "      filter: drop-shadow(0px 1px 2px rgba(0, 0, 0, 0.3));\n",
              "      fill: #FFFFFF;\n",
              "    }\n",
              "  </style>\n",
              "\n",
              "      <script>\n",
              "        const buttonEl =\n",
              "          document.querySelector('#df-bfdb4a24-2d4f-414d-8c91-4d38ab19331a button.colab-df-convert');\n",
              "        buttonEl.style.display =\n",
              "          google.colab.kernel.accessAllowed ? 'block' : 'none';\n",
              "\n",
              "        async function convertToInteractive(key) {\n",
              "          const element = document.querySelector('#df-bfdb4a24-2d4f-414d-8c91-4d38ab19331a');\n",
              "          const dataTable =\n",
              "            await google.colab.kernel.invokeFunction('convertToInteractive',\n",
              "                                                     [key], {});\n",
              "          if (!dataTable) return;\n",
              "\n",
              "          const docLinkHtml = 'Like what you see? Visit the ' +\n",
              "            '<a target=\"_blank\" href=https://colab.research.google.com/notebooks/data_table.ipynb>data table notebook</a>'\n",
              "            + ' to learn more about interactive tables.';\n",
              "          element.innerHTML = '';\n",
              "          dataTable['output_type'] = 'display_data';\n",
              "          await google.colab.output.renderOutput(dataTable, element);\n",
              "          const docLink = document.createElement('div');\n",
              "          docLink.innerHTML = docLinkHtml;\n",
              "          element.appendChild(docLink);\n",
              "        }\n",
              "      </script>\n",
              "    </div>\n",
              "  </div>\n",
              "  "
            ]
          },
          "metadata": {},
          "execution_count": 8
        }
      ]
    },
    {
      "cell_type": "code",
      "source": [
        "test_df"
      ],
      "metadata": {
        "id": "fd-QLpDxl56z",
        "outputId": "3bc0eb83-0e8a-4a8c-fbba-368f3cc2386f",
        "colab": {
          "base_uri": "https://localhost:8080/",
          "height": 424
        }
      },
      "id": "fd-QLpDxl56z",
      "execution_count": 9,
      "outputs": [
        {
          "output_type": "execute_result",
          "data": {
            "text/plain": [
              "      UserName  ScreenName             Location     TweetAt  \\\n",
              "0            1       44953                  NYC  02-03-2020   \n",
              "1            2       44954          Seattle, WA  02-03-2020   \n",
              "2            3       44955                  NaN  02-03-2020   \n",
              "3            4       44956          Chicagoland  02-03-2020   \n",
              "4            5       44957  Melbourne, Victoria  03-03-2020   \n",
              "...        ...         ...                  ...         ...   \n",
              "3793      3794       48746            Israel ??  16-03-2020   \n",
              "3794      3795       48747       Farmington, NM  16-03-2020   \n",
              "3795      3796       48748        Haverford, PA  16-03-2020   \n",
              "3796      3797       48749                  NaN  16-03-2020   \n",
              "3797      3798       48750  Arlington, Virginia  16-03-2020   \n",
              "\n",
              "                                          OriginalTweet           Sentiment  \n",
              "0     TRENDING: New Yorkers encounter empty supermar...  Extremely Negative  \n",
              "1     When I couldn't find hand sanitizer at Fred Me...            Positive  \n",
              "2     Find out how you can protect yourself and love...  Extremely Positive  \n",
              "3     #Panic buying hits #NewYork City as anxious sh...            Negative  \n",
              "4     #toiletpaper #dunnypaper #coronavirus #coronav...             Neutral  \n",
              "...                                                 ...                 ...  \n",
              "3793  Meanwhile In A Supermarket in Israel -- People...            Positive  \n",
              "3794  Did you panic buy a lot of non-perishable item...            Negative  \n",
              "3795  Asst Prof of Economics @cconces was on @NBCPhi...             Neutral  \n",
              "3796  Gov need to do somethings instead of biar je r...  Extremely Negative  \n",
              "3797  I and @ForestandPaper members are committed to...  Extremely Positive  \n",
              "\n",
              "[3798 rows x 6 columns]"
            ],
            "text/html": [
              "\n",
              "  <div id=\"df-5e52d181-2655-46cf-8c82-71dc25b1d8d9\">\n",
              "    <div class=\"colab-df-container\">\n",
              "      <div>\n",
              "<style scoped>\n",
              "    .dataframe tbody tr th:only-of-type {\n",
              "        vertical-align: middle;\n",
              "    }\n",
              "\n",
              "    .dataframe tbody tr th {\n",
              "        vertical-align: top;\n",
              "    }\n",
              "\n",
              "    .dataframe thead th {\n",
              "        text-align: right;\n",
              "    }\n",
              "</style>\n",
              "<table border=\"1\" class=\"dataframe\">\n",
              "  <thead>\n",
              "    <tr style=\"text-align: right;\">\n",
              "      <th></th>\n",
              "      <th>UserName</th>\n",
              "      <th>ScreenName</th>\n",
              "      <th>Location</th>\n",
              "      <th>TweetAt</th>\n",
              "      <th>OriginalTweet</th>\n",
              "      <th>Sentiment</th>\n",
              "    </tr>\n",
              "  </thead>\n",
              "  <tbody>\n",
              "    <tr>\n",
              "      <th>0</th>\n",
              "      <td>1</td>\n",
              "      <td>44953</td>\n",
              "      <td>NYC</td>\n",
              "      <td>02-03-2020</td>\n",
              "      <td>TRENDING: New Yorkers encounter empty supermar...</td>\n",
              "      <td>Extremely Negative</td>\n",
              "    </tr>\n",
              "    <tr>\n",
              "      <th>1</th>\n",
              "      <td>2</td>\n",
              "      <td>44954</td>\n",
              "      <td>Seattle, WA</td>\n",
              "      <td>02-03-2020</td>\n",
              "      <td>When I couldn't find hand sanitizer at Fred Me...</td>\n",
              "      <td>Positive</td>\n",
              "    </tr>\n",
              "    <tr>\n",
              "      <th>2</th>\n",
              "      <td>3</td>\n",
              "      <td>44955</td>\n",
              "      <td>NaN</td>\n",
              "      <td>02-03-2020</td>\n",
              "      <td>Find out how you can protect yourself and love...</td>\n",
              "      <td>Extremely Positive</td>\n",
              "    </tr>\n",
              "    <tr>\n",
              "      <th>3</th>\n",
              "      <td>4</td>\n",
              "      <td>44956</td>\n",
              "      <td>Chicagoland</td>\n",
              "      <td>02-03-2020</td>\n",
              "      <td>#Panic buying hits #NewYork City as anxious sh...</td>\n",
              "      <td>Negative</td>\n",
              "    </tr>\n",
              "    <tr>\n",
              "      <th>4</th>\n",
              "      <td>5</td>\n",
              "      <td>44957</td>\n",
              "      <td>Melbourne, Victoria</td>\n",
              "      <td>03-03-2020</td>\n",
              "      <td>#toiletpaper #dunnypaper #coronavirus #coronav...</td>\n",
              "      <td>Neutral</td>\n",
              "    </tr>\n",
              "    <tr>\n",
              "      <th>...</th>\n",
              "      <td>...</td>\n",
              "      <td>...</td>\n",
              "      <td>...</td>\n",
              "      <td>...</td>\n",
              "      <td>...</td>\n",
              "      <td>...</td>\n",
              "    </tr>\n",
              "    <tr>\n",
              "      <th>3793</th>\n",
              "      <td>3794</td>\n",
              "      <td>48746</td>\n",
              "      <td>Israel ??</td>\n",
              "      <td>16-03-2020</td>\n",
              "      <td>Meanwhile In A Supermarket in Israel -- People...</td>\n",
              "      <td>Positive</td>\n",
              "    </tr>\n",
              "    <tr>\n",
              "      <th>3794</th>\n",
              "      <td>3795</td>\n",
              "      <td>48747</td>\n",
              "      <td>Farmington, NM</td>\n",
              "      <td>16-03-2020</td>\n",
              "      <td>Did you panic buy a lot of non-perishable item...</td>\n",
              "      <td>Negative</td>\n",
              "    </tr>\n",
              "    <tr>\n",
              "      <th>3795</th>\n",
              "      <td>3796</td>\n",
              "      <td>48748</td>\n",
              "      <td>Haverford, PA</td>\n",
              "      <td>16-03-2020</td>\n",
              "      <td>Asst Prof of Economics @cconces was on @NBCPhi...</td>\n",
              "      <td>Neutral</td>\n",
              "    </tr>\n",
              "    <tr>\n",
              "      <th>3796</th>\n",
              "      <td>3797</td>\n",
              "      <td>48749</td>\n",
              "      <td>NaN</td>\n",
              "      <td>16-03-2020</td>\n",
              "      <td>Gov need to do somethings instead of biar je r...</td>\n",
              "      <td>Extremely Negative</td>\n",
              "    </tr>\n",
              "    <tr>\n",
              "      <th>3797</th>\n",
              "      <td>3798</td>\n",
              "      <td>48750</td>\n",
              "      <td>Arlington, Virginia</td>\n",
              "      <td>16-03-2020</td>\n",
              "      <td>I and @ForestandPaper members are committed to...</td>\n",
              "      <td>Extremely Positive</td>\n",
              "    </tr>\n",
              "  </tbody>\n",
              "</table>\n",
              "<p>3798 rows × 6 columns</p>\n",
              "</div>\n",
              "      <button class=\"colab-df-convert\" onclick=\"convertToInteractive('df-5e52d181-2655-46cf-8c82-71dc25b1d8d9')\"\n",
              "              title=\"Convert this dataframe to an interactive table.\"\n",
              "              style=\"display:none;\">\n",
              "        \n",
              "  <svg xmlns=\"http://www.w3.org/2000/svg\" height=\"24px\"viewBox=\"0 0 24 24\"\n",
              "       width=\"24px\">\n",
              "    <path d=\"M0 0h24v24H0V0z\" fill=\"none\"/>\n",
              "    <path d=\"M18.56 5.44l.94 2.06.94-2.06 2.06-.94-2.06-.94-.94-2.06-.94 2.06-2.06.94zm-11 1L8.5 8.5l.94-2.06 2.06-.94-2.06-.94L8.5 2.5l-.94 2.06-2.06.94zm10 10l.94 2.06.94-2.06 2.06-.94-2.06-.94-.94-2.06-.94 2.06-2.06.94z\"/><path d=\"M17.41 7.96l-1.37-1.37c-.4-.4-.92-.59-1.43-.59-.52 0-1.04.2-1.43.59L10.3 9.45l-7.72 7.72c-.78.78-.78 2.05 0 2.83L4 21.41c.39.39.9.59 1.41.59.51 0 1.02-.2 1.41-.59l7.78-7.78 2.81-2.81c.8-.78.8-2.07 0-2.86zM5.41 20L4 18.59l7.72-7.72 1.47 1.35L5.41 20z\"/>\n",
              "  </svg>\n",
              "      </button>\n",
              "      \n",
              "  <style>\n",
              "    .colab-df-container {\n",
              "      display:flex;\n",
              "      flex-wrap:wrap;\n",
              "      gap: 12px;\n",
              "    }\n",
              "\n",
              "    .colab-df-convert {\n",
              "      background-color: #E8F0FE;\n",
              "      border: none;\n",
              "      border-radius: 50%;\n",
              "      cursor: pointer;\n",
              "      display: none;\n",
              "      fill: #1967D2;\n",
              "      height: 32px;\n",
              "      padding: 0 0 0 0;\n",
              "      width: 32px;\n",
              "    }\n",
              "\n",
              "    .colab-df-convert:hover {\n",
              "      background-color: #E2EBFA;\n",
              "      box-shadow: 0px 1px 2px rgba(60, 64, 67, 0.3), 0px 1px 3px 1px rgba(60, 64, 67, 0.15);\n",
              "      fill: #174EA6;\n",
              "    }\n",
              "\n",
              "    [theme=dark] .colab-df-convert {\n",
              "      background-color: #3B4455;\n",
              "      fill: #D2E3FC;\n",
              "    }\n",
              "\n",
              "    [theme=dark] .colab-df-convert:hover {\n",
              "      background-color: #434B5C;\n",
              "      box-shadow: 0px 1px 3px 1px rgba(0, 0, 0, 0.15);\n",
              "      filter: drop-shadow(0px 1px 2px rgba(0, 0, 0, 0.3));\n",
              "      fill: #FFFFFF;\n",
              "    }\n",
              "  </style>\n",
              "\n",
              "      <script>\n",
              "        const buttonEl =\n",
              "          document.querySelector('#df-5e52d181-2655-46cf-8c82-71dc25b1d8d9 button.colab-df-convert');\n",
              "        buttonEl.style.display =\n",
              "          google.colab.kernel.accessAllowed ? 'block' : 'none';\n",
              "\n",
              "        async function convertToInteractive(key) {\n",
              "          const element = document.querySelector('#df-5e52d181-2655-46cf-8c82-71dc25b1d8d9');\n",
              "          const dataTable =\n",
              "            await google.colab.kernel.invokeFunction('convertToInteractive',\n",
              "                                                     [key], {});\n",
              "          if (!dataTable) return;\n",
              "\n",
              "          const docLinkHtml = 'Like what you see? Visit the ' +\n",
              "            '<a target=\"_blank\" href=https://colab.research.google.com/notebooks/data_table.ipynb>data table notebook</a>'\n",
              "            + ' to learn more about interactive tables.';\n",
              "          element.innerHTML = '';\n",
              "          dataTable['output_type'] = 'display_data';\n",
              "          await google.colab.output.renderOutput(dataTable, element);\n",
              "          const docLink = document.createElement('div');\n",
              "          docLink.innerHTML = docLinkHtml;\n",
              "          element.appendChild(docLink);\n",
              "        }\n",
              "      </script>\n",
              "    </div>\n",
              "  </div>\n",
              "  "
            ]
          },
          "metadata": {},
          "execution_count": 9
        }
      ]
    },
    {
      "cell_type": "markdown",
      "id": "5fb48c57",
      "metadata": {
        "id": "5fb48c57"
      },
      "source": [
        "*Dropping any duplicates or missing values*"
      ]
    },
    {
      "cell_type": "code",
      "execution_count": 10,
      "id": "e377c838",
      "metadata": {
        "id": "e377c838"
      },
      "outputs": [],
      "source": [
        "train_df.drop_duplicates(inplace= True)\n",
        "test_df.drop_duplicates(inplace=True)"
      ]
    },
    {
      "cell_type": "code",
      "execution_count": 11,
      "id": "9b2466fe",
      "metadata": {
        "id": "9b2466fe",
        "outputId": "bd8df961-97a0-44f4-d51d-a6b35691e4c8",
        "colab": {
          "base_uri": "https://localhost:8080/"
        }
      },
      "outputs": [
        {
          "output_type": "execute_result",
          "data": {
            "text/plain": [
              "UserName           0\n",
              "ScreenName         0\n",
              "Location         834\n",
              "TweetAt            0\n",
              "OriginalTweet      0\n",
              "Sentiment          0\n",
              "dtype: int64"
            ]
          },
          "metadata": {},
          "execution_count": 11
        }
      ],
      "source": [
        "train_df.isna().sum()"
      ]
    },
    {
      "cell_type": "code",
      "execution_count": 12,
      "id": "94c98c97",
      "metadata": {
        "id": "94c98c97",
        "outputId": "0bb7435c-cf39-4541-d3d5-01d292180205",
        "colab": {
          "base_uri": "https://localhost:8080/"
        }
      },
      "outputs": [
        {
          "output_type": "execute_result",
          "data": {
            "text/plain": [
              "UserName           0\n",
              "ScreenName         0\n",
              "Location         834\n",
              "TweetAt            0\n",
              "OriginalTweet      0\n",
              "Sentiment          0\n",
              "dtype: int64"
            ]
          },
          "metadata": {},
          "execution_count": 12
        }
      ],
      "source": [
        "test_df.isna().sum()"
      ]
    },
    {
      "cell_type": "markdown",
      "id": "89fd2c92",
      "metadata": {
        "id": "89fd2c92"
      },
      "source": [
        "Because a missing location is not as important as a missing tweet or sentiment, I will not remove those entires."
      ]
    },
    {
      "cell_type": "code",
      "execution_count": 13,
      "id": "69ab8375",
      "metadata": {
        "id": "69ab8375",
        "outputId": "40435ecc-e0a4-427c-8199-41bb76a9e406",
        "colab": {
          "base_uri": "https://localhost:8080/",
          "height": 223
        }
      },
      "outputs": [
        {
          "output_type": "stream",
          "name": "stdout",
          "text": [
            "There are 3798 entries in the training dataframe\n"
          ]
        },
        {
          "output_type": "execute_result",
          "data": {
            "text/plain": [
              "   UserName  ScreenName             Location     TweetAt  \\\n",
              "0         1       44953                  NYC  02-03-2020   \n",
              "1         2       44954          Seattle, WA  02-03-2020   \n",
              "2         3       44955                  NaN  02-03-2020   \n",
              "3         4       44956          Chicagoland  02-03-2020   \n",
              "4         5       44957  Melbourne, Victoria  03-03-2020   \n",
              "\n",
              "                                       OriginalTweet           Sentiment  \n",
              "0  TRENDING: New Yorkers encounter empty supermar...  Extremely Negative  \n",
              "1  When I couldn't find hand sanitizer at Fred Me...            Positive  \n",
              "2  Find out how you can protect yourself and love...  Extremely Positive  \n",
              "3  #Panic buying hits #NewYork City as anxious sh...            Negative  \n",
              "4  #toiletpaper #dunnypaper #coronavirus #coronav...             Neutral  "
            ],
            "text/html": [
              "\n",
              "  <div id=\"df-fff5783b-e9dc-43ee-b5a8-27d249aa7871\">\n",
              "    <div class=\"colab-df-container\">\n",
              "      <div>\n",
              "<style scoped>\n",
              "    .dataframe tbody tr th:only-of-type {\n",
              "        vertical-align: middle;\n",
              "    }\n",
              "\n",
              "    .dataframe tbody tr th {\n",
              "        vertical-align: top;\n",
              "    }\n",
              "\n",
              "    .dataframe thead th {\n",
              "        text-align: right;\n",
              "    }\n",
              "</style>\n",
              "<table border=\"1\" class=\"dataframe\">\n",
              "  <thead>\n",
              "    <tr style=\"text-align: right;\">\n",
              "      <th></th>\n",
              "      <th>UserName</th>\n",
              "      <th>ScreenName</th>\n",
              "      <th>Location</th>\n",
              "      <th>TweetAt</th>\n",
              "      <th>OriginalTweet</th>\n",
              "      <th>Sentiment</th>\n",
              "    </tr>\n",
              "  </thead>\n",
              "  <tbody>\n",
              "    <tr>\n",
              "      <th>0</th>\n",
              "      <td>1</td>\n",
              "      <td>44953</td>\n",
              "      <td>NYC</td>\n",
              "      <td>02-03-2020</td>\n",
              "      <td>TRENDING: New Yorkers encounter empty supermar...</td>\n",
              "      <td>Extremely Negative</td>\n",
              "    </tr>\n",
              "    <tr>\n",
              "      <th>1</th>\n",
              "      <td>2</td>\n",
              "      <td>44954</td>\n",
              "      <td>Seattle, WA</td>\n",
              "      <td>02-03-2020</td>\n",
              "      <td>When I couldn't find hand sanitizer at Fred Me...</td>\n",
              "      <td>Positive</td>\n",
              "    </tr>\n",
              "    <tr>\n",
              "      <th>2</th>\n",
              "      <td>3</td>\n",
              "      <td>44955</td>\n",
              "      <td>NaN</td>\n",
              "      <td>02-03-2020</td>\n",
              "      <td>Find out how you can protect yourself and love...</td>\n",
              "      <td>Extremely Positive</td>\n",
              "    </tr>\n",
              "    <tr>\n",
              "      <th>3</th>\n",
              "      <td>4</td>\n",
              "      <td>44956</td>\n",
              "      <td>Chicagoland</td>\n",
              "      <td>02-03-2020</td>\n",
              "      <td>#Panic buying hits #NewYork City as anxious sh...</td>\n",
              "      <td>Negative</td>\n",
              "    </tr>\n",
              "    <tr>\n",
              "      <th>4</th>\n",
              "      <td>5</td>\n",
              "      <td>44957</td>\n",
              "      <td>Melbourne, Victoria</td>\n",
              "      <td>03-03-2020</td>\n",
              "      <td>#toiletpaper #dunnypaper #coronavirus #coronav...</td>\n",
              "      <td>Neutral</td>\n",
              "    </tr>\n",
              "  </tbody>\n",
              "</table>\n",
              "</div>\n",
              "      <button class=\"colab-df-convert\" onclick=\"convertToInteractive('df-fff5783b-e9dc-43ee-b5a8-27d249aa7871')\"\n",
              "              title=\"Convert this dataframe to an interactive table.\"\n",
              "              style=\"display:none;\">\n",
              "        \n",
              "  <svg xmlns=\"http://www.w3.org/2000/svg\" height=\"24px\"viewBox=\"0 0 24 24\"\n",
              "       width=\"24px\">\n",
              "    <path d=\"M0 0h24v24H0V0z\" fill=\"none\"/>\n",
              "    <path d=\"M18.56 5.44l.94 2.06.94-2.06 2.06-.94-2.06-.94-.94-2.06-.94 2.06-2.06.94zm-11 1L8.5 8.5l.94-2.06 2.06-.94-2.06-.94L8.5 2.5l-.94 2.06-2.06.94zm10 10l.94 2.06.94-2.06 2.06-.94-2.06-.94-.94-2.06-.94 2.06-2.06.94z\"/><path d=\"M17.41 7.96l-1.37-1.37c-.4-.4-.92-.59-1.43-.59-.52 0-1.04.2-1.43.59L10.3 9.45l-7.72 7.72c-.78.78-.78 2.05 0 2.83L4 21.41c.39.39.9.59 1.41.59.51 0 1.02-.2 1.41-.59l7.78-7.78 2.81-2.81c.8-.78.8-2.07 0-2.86zM5.41 20L4 18.59l7.72-7.72 1.47 1.35L5.41 20z\"/>\n",
              "  </svg>\n",
              "      </button>\n",
              "      \n",
              "  <style>\n",
              "    .colab-df-container {\n",
              "      display:flex;\n",
              "      flex-wrap:wrap;\n",
              "      gap: 12px;\n",
              "    }\n",
              "\n",
              "    .colab-df-convert {\n",
              "      background-color: #E8F0FE;\n",
              "      border: none;\n",
              "      border-radius: 50%;\n",
              "      cursor: pointer;\n",
              "      display: none;\n",
              "      fill: #1967D2;\n",
              "      height: 32px;\n",
              "      padding: 0 0 0 0;\n",
              "      width: 32px;\n",
              "    }\n",
              "\n",
              "    .colab-df-convert:hover {\n",
              "      background-color: #E2EBFA;\n",
              "      box-shadow: 0px 1px 2px rgba(60, 64, 67, 0.3), 0px 1px 3px 1px rgba(60, 64, 67, 0.15);\n",
              "      fill: #174EA6;\n",
              "    }\n",
              "\n",
              "    [theme=dark] .colab-df-convert {\n",
              "      background-color: #3B4455;\n",
              "      fill: #D2E3FC;\n",
              "    }\n",
              "\n",
              "    [theme=dark] .colab-df-convert:hover {\n",
              "      background-color: #434B5C;\n",
              "      box-shadow: 0px 1px 3px 1px rgba(0, 0, 0, 0.15);\n",
              "      filter: drop-shadow(0px 1px 2px rgba(0, 0, 0, 0.3));\n",
              "      fill: #FFFFFF;\n",
              "    }\n",
              "  </style>\n",
              "\n",
              "      <script>\n",
              "        const buttonEl =\n",
              "          document.querySelector('#df-fff5783b-e9dc-43ee-b5a8-27d249aa7871 button.colab-df-convert');\n",
              "        buttonEl.style.display =\n",
              "          google.colab.kernel.accessAllowed ? 'block' : 'none';\n",
              "\n",
              "        async function convertToInteractive(key) {\n",
              "          const element = document.querySelector('#df-fff5783b-e9dc-43ee-b5a8-27d249aa7871');\n",
              "          const dataTable =\n",
              "            await google.colab.kernel.invokeFunction('convertToInteractive',\n",
              "                                                     [key], {});\n",
              "          if (!dataTable) return;\n",
              "\n",
              "          const docLinkHtml = 'Like what you see? Visit the ' +\n",
              "            '<a target=\"_blank\" href=https://colab.research.google.com/notebooks/data_table.ipynb>data table notebook</a>'\n",
              "            + ' to learn more about interactive tables.';\n",
              "          element.innerHTML = '';\n",
              "          dataTable['output_type'] = 'display_data';\n",
              "          await google.colab.output.renderOutput(dataTable, element);\n",
              "          const docLink = document.createElement('div');\n",
              "          docLink.innerHTML = docLinkHtml;\n",
              "          element.appendChild(docLink);\n",
              "        }\n",
              "      </script>\n",
              "    </div>\n",
              "  </div>\n",
              "  "
            ]
          },
          "metadata": {},
          "execution_count": 13
        }
      ],
      "source": [
        "print(f\"There are {train_df.shape[0]} entries in the training dataframe\")\n",
        "train_df.head()"
      ]
    },
    {
      "cell_type": "code",
      "execution_count": 14,
      "id": "ca726c61",
      "metadata": {
        "id": "ca726c61",
        "outputId": "d4681fad-50ef-49db-edda-0dd4ace1f951",
        "colab": {
          "base_uri": "https://localhost:8080/",
          "height": 223
        }
      },
      "outputs": [
        {
          "output_type": "stream",
          "name": "stdout",
          "text": [
            "There are 3798 entries in the test dataframe\n"
          ]
        },
        {
          "output_type": "execute_result",
          "data": {
            "text/plain": [
              "   UserName  ScreenName             Location     TweetAt  \\\n",
              "0         1       44953                  NYC  02-03-2020   \n",
              "1         2       44954          Seattle, WA  02-03-2020   \n",
              "2         3       44955                  NaN  02-03-2020   \n",
              "3         4       44956          Chicagoland  02-03-2020   \n",
              "4         5       44957  Melbourne, Victoria  03-03-2020   \n",
              "\n",
              "                                       OriginalTweet           Sentiment  \n",
              "0  TRENDING: New Yorkers encounter empty supermar...  Extremely Negative  \n",
              "1  When I couldn't find hand sanitizer at Fred Me...            Positive  \n",
              "2  Find out how you can protect yourself and love...  Extremely Positive  \n",
              "3  #Panic buying hits #NewYork City as anxious sh...            Negative  \n",
              "4  #toiletpaper #dunnypaper #coronavirus #coronav...             Neutral  "
            ],
            "text/html": [
              "\n",
              "  <div id=\"df-5d517240-13d9-422e-8d0e-6c1cc01066b5\">\n",
              "    <div class=\"colab-df-container\">\n",
              "      <div>\n",
              "<style scoped>\n",
              "    .dataframe tbody tr th:only-of-type {\n",
              "        vertical-align: middle;\n",
              "    }\n",
              "\n",
              "    .dataframe tbody tr th {\n",
              "        vertical-align: top;\n",
              "    }\n",
              "\n",
              "    .dataframe thead th {\n",
              "        text-align: right;\n",
              "    }\n",
              "</style>\n",
              "<table border=\"1\" class=\"dataframe\">\n",
              "  <thead>\n",
              "    <tr style=\"text-align: right;\">\n",
              "      <th></th>\n",
              "      <th>UserName</th>\n",
              "      <th>ScreenName</th>\n",
              "      <th>Location</th>\n",
              "      <th>TweetAt</th>\n",
              "      <th>OriginalTweet</th>\n",
              "      <th>Sentiment</th>\n",
              "    </tr>\n",
              "  </thead>\n",
              "  <tbody>\n",
              "    <tr>\n",
              "      <th>0</th>\n",
              "      <td>1</td>\n",
              "      <td>44953</td>\n",
              "      <td>NYC</td>\n",
              "      <td>02-03-2020</td>\n",
              "      <td>TRENDING: New Yorkers encounter empty supermar...</td>\n",
              "      <td>Extremely Negative</td>\n",
              "    </tr>\n",
              "    <tr>\n",
              "      <th>1</th>\n",
              "      <td>2</td>\n",
              "      <td>44954</td>\n",
              "      <td>Seattle, WA</td>\n",
              "      <td>02-03-2020</td>\n",
              "      <td>When I couldn't find hand sanitizer at Fred Me...</td>\n",
              "      <td>Positive</td>\n",
              "    </tr>\n",
              "    <tr>\n",
              "      <th>2</th>\n",
              "      <td>3</td>\n",
              "      <td>44955</td>\n",
              "      <td>NaN</td>\n",
              "      <td>02-03-2020</td>\n",
              "      <td>Find out how you can protect yourself and love...</td>\n",
              "      <td>Extremely Positive</td>\n",
              "    </tr>\n",
              "    <tr>\n",
              "      <th>3</th>\n",
              "      <td>4</td>\n",
              "      <td>44956</td>\n",
              "      <td>Chicagoland</td>\n",
              "      <td>02-03-2020</td>\n",
              "      <td>#Panic buying hits #NewYork City as anxious sh...</td>\n",
              "      <td>Negative</td>\n",
              "    </tr>\n",
              "    <tr>\n",
              "      <th>4</th>\n",
              "      <td>5</td>\n",
              "      <td>44957</td>\n",
              "      <td>Melbourne, Victoria</td>\n",
              "      <td>03-03-2020</td>\n",
              "      <td>#toiletpaper #dunnypaper #coronavirus #coronav...</td>\n",
              "      <td>Neutral</td>\n",
              "    </tr>\n",
              "  </tbody>\n",
              "</table>\n",
              "</div>\n",
              "      <button class=\"colab-df-convert\" onclick=\"convertToInteractive('df-5d517240-13d9-422e-8d0e-6c1cc01066b5')\"\n",
              "              title=\"Convert this dataframe to an interactive table.\"\n",
              "              style=\"display:none;\">\n",
              "        \n",
              "  <svg xmlns=\"http://www.w3.org/2000/svg\" height=\"24px\"viewBox=\"0 0 24 24\"\n",
              "       width=\"24px\">\n",
              "    <path d=\"M0 0h24v24H0V0z\" fill=\"none\"/>\n",
              "    <path d=\"M18.56 5.44l.94 2.06.94-2.06 2.06-.94-2.06-.94-.94-2.06-.94 2.06-2.06.94zm-11 1L8.5 8.5l.94-2.06 2.06-.94-2.06-.94L8.5 2.5l-.94 2.06-2.06.94zm10 10l.94 2.06.94-2.06 2.06-.94-2.06-.94-.94-2.06-.94 2.06-2.06.94z\"/><path d=\"M17.41 7.96l-1.37-1.37c-.4-.4-.92-.59-1.43-.59-.52 0-1.04.2-1.43.59L10.3 9.45l-7.72 7.72c-.78.78-.78 2.05 0 2.83L4 21.41c.39.39.9.59 1.41.59.51 0 1.02-.2 1.41-.59l7.78-7.78 2.81-2.81c.8-.78.8-2.07 0-2.86zM5.41 20L4 18.59l7.72-7.72 1.47 1.35L5.41 20z\"/>\n",
              "  </svg>\n",
              "      </button>\n",
              "      \n",
              "  <style>\n",
              "    .colab-df-container {\n",
              "      display:flex;\n",
              "      flex-wrap:wrap;\n",
              "      gap: 12px;\n",
              "    }\n",
              "\n",
              "    .colab-df-convert {\n",
              "      background-color: #E8F0FE;\n",
              "      border: none;\n",
              "      border-radius: 50%;\n",
              "      cursor: pointer;\n",
              "      display: none;\n",
              "      fill: #1967D2;\n",
              "      height: 32px;\n",
              "      padding: 0 0 0 0;\n",
              "      width: 32px;\n",
              "    }\n",
              "\n",
              "    .colab-df-convert:hover {\n",
              "      background-color: #E2EBFA;\n",
              "      box-shadow: 0px 1px 2px rgba(60, 64, 67, 0.3), 0px 1px 3px 1px rgba(60, 64, 67, 0.15);\n",
              "      fill: #174EA6;\n",
              "    }\n",
              "\n",
              "    [theme=dark] .colab-df-convert {\n",
              "      background-color: #3B4455;\n",
              "      fill: #D2E3FC;\n",
              "    }\n",
              "\n",
              "    [theme=dark] .colab-df-convert:hover {\n",
              "      background-color: #434B5C;\n",
              "      box-shadow: 0px 1px 3px 1px rgba(0, 0, 0, 0.15);\n",
              "      filter: drop-shadow(0px 1px 2px rgba(0, 0, 0, 0.3));\n",
              "      fill: #FFFFFF;\n",
              "    }\n",
              "  </style>\n",
              "\n",
              "      <script>\n",
              "        const buttonEl =\n",
              "          document.querySelector('#df-5d517240-13d9-422e-8d0e-6c1cc01066b5 button.colab-df-convert');\n",
              "        buttonEl.style.display =\n",
              "          google.colab.kernel.accessAllowed ? 'block' : 'none';\n",
              "\n",
              "        async function convertToInteractive(key) {\n",
              "          const element = document.querySelector('#df-5d517240-13d9-422e-8d0e-6c1cc01066b5');\n",
              "          const dataTable =\n",
              "            await google.colab.kernel.invokeFunction('convertToInteractive',\n",
              "                                                     [key], {});\n",
              "          if (!dataTable) return;\n",
              "\n",
              "          const docLinkHtml = 'Like what you see? Visit the ' +\n",
              "            '<a target=\"_blank\" href=https://colab.research.google.com/notebooks/data_table.ipynb>data table notebook</a>'\n",
              "            + ' to learn more about interactive tables.';\n",
              "          element.innerHTML = '';\n",
              "          dataTable['output_type'] = 'display_data';\n",
              "          await google.colab.output.renderOutput(dataTable, element);\n",
              "          const docLink = document.createElement('div');\n",
              "          docLink.innerHTML = docLinkHtml;\n",
              "          element.appendChild(docLink);\n",
              "        }\n",
              "      </script>\n",
              "    </div>\n",
              "  </div>\n",
              "  "
            ]
          },
          "metadata": {},
          "execution_count": 14
        }
      ],
      "source": [
        "print(f\"There are {test_df.shape[0]} entries in the test dataframe\")\n",
        "test_df.head()"
      ]
    },
    {
      "cell_type": "code",
      "execution_count": 15,
      "id": "23a3039a",
      "metadata": {
        "scrolled": false,
        "id": "23a3039a",
        "outputId": "ebdd4484-87f7-45f5-9d0f-da578dadf1f9",
        "colab": {
          "base_uri": "https://localhost:8080/",
          "height": 420
        }
      },
      "outputs": [
        {
          "output_type": "display_data",
          "data": {
            "text/plain": [
              "<Figure size 720x360 with 2 Axes>"
            ],
            "image/png": "[encoded data removed]"
          },
          "metadata": {}
        }
      ],
      "source": [
        "reorder = ['Extremely Positive', 'Positive', 'Neutral', 'Negative', 'Extremely Negative']\n",
        "\n",
        "fig, axes = plt.subplots(1,2 , figsize=(10,5))\n",
        "\n",
        "train_df.value_counts('Sentiment').reindex(index=reorder).plot(kind='bar', ax=axes[0])\n",
        "plt.sca(axes[0])\n",
        "plt.xticks(rotation=45, horizontalalignment='right')\n",
        "plt.title('Training Dataset')\n",
        "plt.ylabel('Counts')\n",
        "\n",
        "test_df.value_counts('Sentiment').reindex(index=reorder).plot(kind='bar', ax=axes[1])\n",
        "plt.sca(axes[1])\n",
        "plt.xticks(rotation=45, horizontalalignment='right')\n",
        "plt.title('Testing Dataset');"
      ]
    },
    {
      "cell_type": "markdown",
      "id": "bde60c01",
      "metadata": {
        "id": "bde60c01"
      },
      "source": [
        "It looks like the training and testsing datasets are not balanced across all categories."
      ]
    },
    {
      "cell_type": "code",
      "execution_count": 16,
      "id": "a992b6ce",
      "metadata": {
        "id": "a992b6ce",
        "outputId": "9306c118-f1dd-4363-8206-3b1e6d38a233",
        "colab": {
          "base_uri": "https://localhost:8080/"
        }
      },
      "outputs": [
        {
          "output_type": "stream",
          "name": "stdout",
          "text": [
            "The max word count is 62\n"
          ]
        }
      ],
      "source": [
        "max_words = []\n",
        "for row in train_df['OriginalTweet']:\n",
        "    max_words.append(len(row.split()))\n",
        "print(f\"The max word count is {np.asarray(max_words).max()}\")"
      ]
    },
    {
      "cell_type": "markdown",
      "id": "f30183b8",
      "metadata": {
        "id": "f30183b8"
      },
      "source": [
        "**Getting rid of the URL's in the tweets**"
      ]
    },
    {
      "cell_type": "code",
      "execution_count": 17,
      "id": "698fb0e8",
      "metadata": {
        "id": "698fb0e8",
        "outputId": "8db03dc4-1207-457b-ba39-9eae04471b3d",
        "colab": {
          "base_uri": "https://localhost:8080/",
          "height": 90
        }
      },
      "outputs": [
        {
          "output_type": "stream",
          "name": "stdout",
          "text": [
            "TRENDING: New Yorkers encounter empty supermarket shelves (pictured, Wegmans in Brooklyn), sold-out online grocers (FoodKick, MaxDelivery) as #coronavirus-fearing shoppers stock up https://t.co/Gr76pcrLWh https://t.co/ivMKMsqdT1\n"
          ]
        },
        {
          "output_type": "execute_result",
          "data": {
            "text/plain": [
              "'TRENDING: New Yorkers encounter empty supermarket shelves (pictured, Wegmans in Brooklyn), sold-out online grocers (FoodKick, MaxDelivery) as #coronavirus-fearing shoppers stock up  '"
            ],
            "application/vnd.google.colaboratory.intrinsic+json": {
              "type": "string"
            }
          },
          "metadata": {},
          "execution_count": 17
        }
      ],
      "source": [
        "test_str = test_df['OriginalTweet'][0]\n",
        "print(test_str)\n",
        "\n",
        "def remove_https(row):\n",
        "    return re.sub(r'http\\S+', '', row)\n",
        "\n",
        "remove_https(test_str)"
      ]
    },
    {
      "cell_type": "markdown",
      "id": "9eeeeee0",
      "metadata": {
        "id": "9eeeeee0"
      },
      "source": [
        "*Apply to whole datasets*"
      ]
    },
    {
      "cell_type": "code",
      "execution_count": 18,
      "id": "caee95cf",
      "metadata": {
        "id": "caee95cf"
      },
      "outputs": [],
      "source": [
        "train_df['OriginalTweet_no_URL'] = train_df['OriginalTweet'].apply(remove_https)\n",
        "test_df['OriginalTweet_no_URL'] = test_df['OriginalTweet'].apply(remove_https)"
      ]
    },
    {
      "cell_type": "code",
      "source": [
        "train_df"
      ],
      "metadata": {
        "id": "ejc6TVyMs8lc",
        "outputId": "2d110d1c-a82d-4dcc-f43e-179967939b16",
        "colab": {
          "base_uri": "https://localhost:8080/",
          "height": 641
        }
      },
      "id": "ejc6TVyMs8lc",
      "execution_count": 19,
      "outputs": [
        {
          "output_type": "execute_result",
          "data": {
            "text/plain": [
              "      UserName  ScreenName             Location     TweetAt  \\\n",
              "0            1       44953                  NYC  02-03-2020   \n",
              "1            2       44954          Seattle, WA  02-03-2020   \n",
              "2            3       44955                  NaN  02-03-2020   \n",
              "3            4       44956          Chicagoland  02-03-2020   \n",
              "4            5       44957  Melbourne, Victoria  03-03-2020   \n",
              "...        ...         ...                  ...         ...   \n",
              "3793      3794       48746            Israel ??  16-03-2020   \n",
              "3794      3795       48747       Farmington, NM  16-03-2020   \n",
              "3795      3796       48748        Haverford, PA  16-03-2020   \n",
              "3796      3797       48749                  NaN  16-03-2020   \n",
              "3797      3798       48750  Arlington, Virginia  16-03-2020   \n",
              "\n",
              "                                          OriginalTweet           Sentiment  \\\n",
              "0     TRENDING: New Yorkers encounter empty supermar...  Extremely Negative   \n",
              "1     When I couldn't find hand sanitizer at Fred Me...            Positive   \n",
              "2     Find out how you can protect yourself and love...  Extremely Positive   \n",
              "3     #Panic buying hits #NewYork City as anxious sh...            Negative   \n",
              "4     #toiletpaper #dunnypaper #coronavirus #coronav...             Neutral   \n",
              "...                                                 ...                 ...   \n",
              "3793  Meanwhile In A Supermarket in Israel -- People...            Positive   \n",
              "3794  Did you panic buy a lot of non-perishable item...            Negative   \n",
              "3795  Asst Prof of Economics @cconces was on @NBCPhi...             Neutral   \n",
              "3796  Gov need to do somethings instead of biar je r...  Extremely Negative   \n",
              "3797  I and @ForestandPaper members are committed to...  Extremely Positive   \n",
              "\n",
              "                                   OriginalTweet_no_URL  \n",
              "0     TRENDING: New Yorkers encounter empty supermar...  \n",
              "1     When I couldn't find hand sanitizer at Fred Me...  \n",
              "2     Find out how you can protect yourself and love...  \n",
              "3     #Panic buying hits #NewYork City as anxious sh...  \n",
              "4     #toiletpaper #dunnypaper #coronavirus #coronav...  \n",
              "...                                                 ...  \n",
              "3793  Meanwhile In A Supermarket in Israel -- People...  \n",
              "3794  Did you panic buy a lot of non-perishable item...  \n",
              "3795  Asst Prof of Economics @cconces was on @NBCPhi...  \n",
              "3796  Gov need to do somethings instead of biar je r...  \n",
              "3797  I and @ForestandPaper members are committed to...  \n",
              "\n",
              "[3798 rows x 7 columns]"
            ],
            "text/html": [
              "\n",
              "  <div id=\"df-056295ec-1e59-47dc-87a3-6609c3c42ddf\">\n",
              "    <div class=\"colab-df-container\">\n",
              "      <div>\n",
              "<style scoped>\n",
              "    .dataframe tbody tr th:only-of-type {\n",
              "        vertical-align: middle;\n",
              "    }\n",
              "\n",
              "    .dataframe tbody tr th {\n",
              "        vertical-align: top;\n",
              "    }\n",
              "\n",
              "    .dataframe thead th {\n",
              "        text-align: right;\n",
              "    }\n",
              "</style>\n",
              "<table border=\"1\" class=\"dataframe\">\n",
              "  <thead>\n",
              "    <tr style=\"text-align: right;\">\n",
              "      <th></th>\n",
              "      <th>UserName</th>\n",
              "      <th>ScreenName</th>\n",
              "      <th>Location</th>\n",
              "      <th>TweetAt</th>\n",
              "      <th>OriginalTweet</th>\n",
              "      <th>Sentiment</th>\n",
              "      <th>OriginalTweet_no_URL</th>\n",
              "    </tr>\n",
              "  </thead>\n",
              "  <tbody>\n",
              "    <tr>\n",
              "      <th>0</th>\n",
              "      <td>1</td>\n",
              "      <td>44953</td>\n",
              "      <td>NYC</td>\n",
              "      <td>02-03-2020</td>\n",
              "      <td>TRENDING: New Yorkers encounter empty supermar...</td>\n",
              "      <td>Extremely Negative</td>\n",
              "      <td>TRENDING: New Yorkers encounter empty supermar...</td>\n",
              "    </tr>\n",
              "    <tr>\n",
              "      <th>1</th>\n",
              "      <td>2</td>\n",
              "      <td>44954</td>\n",
              "      <td>Seattle, WA</td>\n",
              "      <td>02-03-2020</td>\n",
              "      <td>When I couldn't find hand sanitizer at Fred Me...</td>\n",
              "      <td>Positive</td>\n",
              "      <td>When I couldn't find hand sanitizer at Fred Me...</td>\n",
              "    </tr>\n",
              "    <tr>\n",
              "      <th>2</th>\n",
              "      <td>3</td>\n",
              "      <td>44955</td>\n",
              "      <td>NaN</td>\n",
              "      <td>02-03-2020</td>\n",
              "      <td>Find out how you can protect yourself and love...</td>\n",
              "      <td>Extremely Positive</td>\n",
              "      <td>Find out how you can protect yourself and love...</td>\n",
              "    </tr>\n",
              "    <tr>\n",
              "      <th>3</th>\n",
              "      <td>4</td>\n",
              "      <td>44956</td>\n",
              "      <td>Chicagoland</td>\n",
              "      <td>02-03-2020</td>\n",
              "      <td>#Panic buying hits #NewYork City as anxious sh...</td>\n",
              "      <td>Negative</td>\n",
              "      <td>#Panic buying hits #NewYork City as anxious sh...</td>\n",
              "    </tr>\n",
              "    <tr>\n",
              "      <th>4</th>\n",
              "      <td>5</td>\n",
              "      <td>44957</td>\n",
              "      <td>Melbourne, Victoria</td>\n",
              "      <td>03-03-2020</td>\n",
              "      <td>#toiletpaper #dunnypaper #coronavirus #coronav...</td>\n",
              "      <td>Neutral</td>\n",
              "      <td>#toiletpaper #dunnypaper #coronavirus #coronav...</td>\n",
              "    </tr>\n",
              "    <tr>\n",
              "      <th>...</th>\n",
              "      <td>...</td>\n",
              "      <td>...</td>\n",
              "      <td>...</td>\n",
              "      <td>...</td>\n",
              "      <td>...</td>\n",
              "      <td>...</td>\n",
              "      <td>...</td>\n",
              "    </tr>\n",
              "    <tr>\n",
              "      <th>3793</th>\n",
              "      <td>3794</td>\n",
              "      <td>48746</td>\n",
              "      <td>Israel ??</td>\n",
              "      <td>16-03-2020</td>\n",
              "      <td>Meanwhile In A Supermarket in Israel -- People...</td>\n",
              "      <td>Positive</td>\n",
              "      <td>Meanwhile In A Supermarket in Israel -- People...</td>\n",
              "    </tr>\n",
              "    <tr>\n",
              "      <th>3794</th>\n",
              "      <td>3795</td>\n",
              "      <td>48747</td>\n",
              "      <td>Farmington, NM</td>\n",
              "      <td>16-03-2020</td>\n",
              "      <td>Did you panic buy a lot of non-perishable item...</td>\n",
              "      <td>Negative</td>\n",
              "      <td>Did you panic buy a lot of non-perishable item...</td>\n",
              "    </tr>\n",
              "    <tr>\n",
              "      <th>3795</th>\n",
              "      <td>3796</td>\n",
              "      <td>48748</td>\n",
              "      <td>Haverford, PA</td>\n",
              "      <td>16-03-2020</td>\n",
              "      <td>Asst Prof of Economics @cconces was on @NBCPhi...</td>\n",
              "      <td>Neutral</td>\n",
              "      <td>Asst Prof of Economics @cconces was on @NBCPhi...</td>\n",
              "    </tr>\n",
              "    <tr>\n",
              "      <th>3796</th>\n",
              "      <td>3797</td>\n",
              "      <td>48749</td>\n",
              "      <td>NaN</td>\n",
              "      <td>16-03-2020</td>\n",
              "      <td>Gov need to do somethings instead of biar je r...</td>\n",
              "      <td>Extremely Negative</td>\n",
              "      <td>Gov need to do somethings instead of biar je r...</td>\n",
              "    </tr>\n",
              "    <tr>\n",
              "      <th>3797</th>\n",
              "      <td>3798</td>\n",
              "      <td>48750</td>\n",
              "      <td>Arlington, Virginia</td>\n",
              "      <td>16-03-2020</td>\n",
              "      <td>I and @ForestandPaper members are committed to...</td>\n",
              "      <td>Extremely Positive</td>\n",
              "      <td>I and @ForestandPaper members are committed to...</td>\n",
              "    </tr>\n",
              "  </tbody>\n",
              "</table>\n",
              "<p>3798 rows × 7 columns</p>\n",
              "</div>\n",
              "      <button class=\"colab-df-convert\" onclick=\"convertToInteractive('df-056295ec-1e59-47dc-87a3-6609c3c42ddf')\"\n",
              "              title=\"Convert this dataframe to an interactive table.\"\n",
              "              style=\"display:none;\">\n",
              "        \n",
              "  <svg xmlns=\"http://www.w3.org/2000/svg\" height=\"24px\"viewBox=\"0 0 24 24\"\n",
              "       width=\"24px\">\n",
              "    <path d=\"M0 0h24v24H0V0z\" fill=\"none\"/>\n",
              "    <path d=\"M18.56 5.44l.94 2.06.94-2.06 2.06-.94-2.06-.94-.94-2.06-.94 2.06-2.06.94zm-11 1L8.5 8.5l.94-2.06 2.06-.94-2.06-.94L8.5 2.5l-.94 2.06-2.06.94zm10 10l.94 2.06.94-2.06 2.06-.94-2.06-.94-.94-2.06-.94 2.06-2.06.94z\"/><path d=\"M17.41 7.96l-1.37-1.37c-.4-.4-.92-.59-1.43-.59-.52 0-1.04.2-1.43.59L10.3 9.45l-7.72 7.72c-.78.78-.78 2.05 0 2.83L4 21.41c.39.39.9.59 1.41.59.51 0 1.02-.2 1.41-.59l7.78-7.78 2.81-2.81c.8-.78.8-2.07 0-2.86zM5.41 20L4 18.59l7.72-7.72 1.47 1.35L5.41 20z\"/>\n",
              "  </svg>\n",
              "      </button>\n",
              "      \n",
              "  <style>\n",
              "    .colab-df-container {\n",
              "      display:flex;\n",
              "      flex-wrap:wrap;\n",
              "      gap: 12px;\n",
              "    }\n",
              "\n",
              "    .colab-df-convert {\n",
              "      background-color: #E8F0FE;\n",
              "      border: none;\n",
              "      border-radius: 50%;\n",
              "      cursor: pointer;\n",
              "      display: none;\n",
              "      fill: #1967D2;\n",
              "      height: 32px;\n",
              "      padding: 0 0 0 0;\n",
              "      width: 32px;\n",
              "    }\n",
              "\n",
              "    .colab-df-convert:hover {\n",
              "      background-color: #E2EBFA;\n",
              "      box-shadow: 0px 1px 2px rgba(60, 64, 67, 0.3), 0px 1px 3px 1px rgba(60, 64, 67, 0.15);\n",
              "      fill: #174EA6;\n",
              "    }\n",
              "\n",
              "    [theme=dark] .colab-df-convert {\n",
              "      background-color: #3B4455;\n",
              "      fill: #D2E3FC;\n",
              "    }\n",
              "\n",
              "    [theme=dark] .colab-df-convert:hover {\n",
              "      background-color: #434B5C;\n",
              "      box-shadow: 0px 1px 3px 1px rgba(0, 0, 0, 0.15);\n",
              "      filter: drop-shadow(0px 1px 2px rgba(0, 0, 0, 0.3));\n",
              "      fill: #FFFFFF;\n",
              "    }\n",
              "  </style>\n",
              "\n",
              "      <script>\n",
              "        const buttonEl =\n",
              "          document.querySelector('#df-056295ec-1e59-47dc-87a3-6609c3c42ddf button.colab-df-convert');\n",
              "        buttonEl.style.display =\n",
              "          google.colab.kernel.accessAllowed ? 'block' : 'none';\n",
              "\n",
              "        async function convertToInteractive(key) {\n",
              "          const element = document.querySelector('#df-056295ec-1e59-47dc-87a3-6609c3c42ddf');\n",
              "          const dataTable =\n",
              "            await google.colab.kernel.invokeFunction('convertToInteractive',\n",
              "                                                     [key], {});\n",
              "          if (!dataTable) return;\n",
              "\n",
              "          const docLinkHtml = 'Like what you see? Visit the ' +\n",
              "            '<a target=\"_blank\" href=https://colab.research.google.com/notebooks/data_table.ipynb>data table notebook</a>'\n",
              "            + ' to learn more about interactive tables.';\n",
              "          element.innerHTML = '';\n",
              "          dataTable['output_type'] = 'display_data';\n",
              "          await google.colab.output.renderOutput(dataTable, element);\n",
              "          const docLink = document.createElement('div');\n",
              "          docLink.innerHTML = docLinkHtml;\n",
              "          element.appendChild(docLink);\n",
              "        }\n",
              "      </script>\n",
              "    </div>\n",
              "  </div>\n",
              "  "
            ]
          },
          "metadata": {},
          "execution_count": 19
        }
      ]
    },
    {
      "cell_type": "markdown",
      "source": [
        "#Block 4"
      ],
      "metadata": {
        "id": "9DlPKTqo5jyL"
      },
      "id": "9DlPKTqo5jyL"
    },
    {
      "cell_type": "markdown",
      "id": "75dd90a5",
      "metadata": {
        "id": "75dd90a5"
      },
      "source": [
        "**Label Encode the datasets**"
      ]
    },
    {
      "cell_type": "code",
      "execution_count": 20,
      "id": "bf5dd59a",
      "metadata": {
        "id": "bf5dd59a"
      },
      "outputs": [],
      "source": [
        "le = LabelEncoder()\n",
        "train_df['Sentiment_label'] = le.fit_transform(train_df['Sentiment'])\n",
        "test_df['Sentiment_label'] = le.transform(test_df['Sentiment'])"
      ]
    },
    {
      "cell_type": "code",
      "source": [
        "train_df"
      ],
      "metadata": {
        "id": "x0YRoX-ttKQJ",
        "outputId": "4b694e4f-d8bf-4b42-8feb-36b0e06e4113",
        "colab": {
          "base_uri": "https://localhost:8080/",
          "height": 641
        }
      },
      "id": "x0YRoX-ttKQJ",
      "execution_count": 21,
      "outputs": [
        {
          "output_type": "execute_result",
          "data": {
            "text/plain": [
              "      UserName  ScreenName             Location     TweetAt  \\\n",
              "0            1       44953                  NYC  02-03-2020   \n",
              "1            2       44954          Seattle, WA  02-03-2020   \n",
              "2            3       44955                  NaN  02-03-2020   \n",
              "3            4       44956          Chicagoland  02-03-2020   \n",
              "4            5       44957  Melbourne, Victoria  03-03-2020   \n",
              "...        ...         ...                  ...         ...   \n",
              "3793      3794       48746            Israel ??  16-03-2020   \n",
              "3794      3795       48747       Farmington, NM  16-03-2020   \n",
              "3795      3796       48748        Haverford, PA  16-03-2020   \n",
              "3796      3797       48749                  NaN  16-03-2020   \n",
              "3797      3798       48750  Arlington, Virginia  16-03-2020   \n",
              "\n",
              "                                          OriginalTweet           Sentiment  \\\n",
              "0     TRENDING: New Yorkers encounter empty supermar...  Extremely Negative   \n",
              "1     When I couldn't find hand sanitizer at Fred Me...            Positive   \n",
              "2     Find out how you can protect yourself and love...  Extremely Positive   \n",
              "3     #Panic buying hits #NewYork City as anxious sh...            Negative   \n",
              "4     #toiletpaper #dunnypaper #coronavirus #coronav...             Neutral   \n",
              "...                                                 ...                 ...   \n",
              "3793  Meanwhile In A Supermarket in Israel -- People...            Positive   \n",
              "3794  Did you panic buy a lot of non-perishable item...            Negative   \n",
              "3795  Asst Prof of Economics @cconces was on @NBCPhi...             Neutral   \n",
              "3796  Gov need to do somethings instead of biar je r...  Extremely Negative   \n",
              "3797  I and @ForestandPaper members are committed to...  Extremely Positive   \n",
              "\n",
              "                                   OriginalTweet_no_URL  Sentiment_label  \n",
              "0     TRENDING: New Yorkers encounter empty supermar...                0  \n",
              "1     When I couldn't find hand sanitizer at Fred Me...                4  \n",
              "2     Find out how you can protect yourself and love...                1  \n",
              "3     #Panic buying hits #NewYork City as anxious sh...                2  \n",
              "4     #toiletpaper #dunnypaper #coronavirus #coronav...                3  \n",
              "...                                                 ...              ...  \n",
              "3793  Meanwhile In A Supermarket in Israel -- People...                4  \n",
              "3794  Did you panic buy a lot of non-perishable item...                2  \n",
              "3795  Asst Prof of Economics @cconces was on @NBCPhi...                3  \n",
              "3796  Gov need to do somethings instead of biar je r...                0  \n",
              "3797  I and @ForestandPaper members are committed to...                1  \n",
              "\n",
              "[3798 rows x 8 columns]"
            ],
            "text/html": [
              "\n",
              "  <div id=\"df-9bc23e97-0fb2-490b-8c69-c4ff526c3b0d\">\n",
              "    <div class=\"colab-df-container\">\n",
              "      <div>\n",
              "<style scoped>\n",
              "    .dataframe tbody tr th:only-of-type {\n",
              "        vertical-align: middle;\n",
              "    }\n",
              "\n",
              "    .dataframe tbody tr th {\n",
              "        vertical-align: top;\n",
              "    }\n",
              "\n",
              "    .dataframe thead th {\n",
              "        text-align: right;\n",
              "    }\n",
              "</style>\n",
              "<table border=\"1\" class=\"dataframe\">\n",
              "  <thead>\n",
              "    <tr style=\"text-align: right;\">\n",
              "      <th></th>\n",
              "      <th>UserName</th>\n",
              "      <th>ScreenName</th>\n",
              "      <th>Location</th>\n",
              "      <th>TweetAt</th>\n",
              "      <th>OriginalTweet</th>\n",
              "      <th>Sentiment</th>\n",
              "      <th>OriginalTweet_no_URL</th>\n",
              "      <th>Sentiment_label</th>\n",
              "    </tr>\n",
              "  </thead>\n",
              "  <tbody>\n",
              "    <tr>\n",
              "      <th>0</th>\n",
              "      <td>1</td>\n",
              "      <td>44953</td>\n",
              "      <td>NYC</td>\n",
              "      <td>02-03-2020</td>\n",
              "      <td>TRENDING: New Yorkers encounter empty supermar...</td>\n",
              "      <td>Extremely Negative</td>\n",
              "      <td>TRENDING: New Yorkers encounter empty supermar...</td>\n",
              "      <td>0</td>\n",
              "    </tr>\n",
              "    <tr>\n",
              "      <th>1</th>\n",
              "      <td>2</td>\n",
              "      <td>44954</td>\n",
              "      <td>Seattle, WA</td>\n",
              "      <td>02-03-2020</td>\n",
              "      <td>When I couldn't find hand sanitizer at Fred Me...</td>\n",
              "      <td>Positive</td>\n",
              "      <td>When I couldn't find hand sanitizer at Fred Me...</td>\n",
              "      <td>4</td>\n",
              "    </tr>\n",
              "    <tr>\n",
              "      <th>2</th>\n",
              "      <td>3</td>\n",
              "      <td>44955</td>\n",
              "      <td>NaN</td>\n",
              "      <td>02-03-2020</td>\n",
              "      <td>Find out how you can protect yourself and love...</td>\n",
              "      <td>Extremely Positive</td>\n",
              "      <td>Find out how you can protect yourself and love...</td>\n",
              "      <td>1</td>\n",
              "    </tr>\n",
              "    <tr>\n",
              "      <th>3</th>\n",
              "      <td>4</td>\n",
              "      <td>44956</td>\n",
              "      <td>Chicagoland</td>\n",
              "      <td>02-03-2020</td>\n",
              "      <td>#Panic buying hits #NewYork City as anxious sh...</td>\n",
              "      <td>Negative</td>\n",
              "      <td>#Panic buying hits #NewYork City as anxious sh...</td>\n",
              "      <td>2</td>\n",
              "    </tr>\n",
              "    <tr>\n",
              "      <th>4</th>\n",
              "      <td>5</td>\n",
              "      <td>44957</td>\n",
              "      <td>Melbourne, Victoria</td>\n",
              "      <td>03-03-2020</td>\n",
              "      <td>#toiletpaper #dunnypaper #coronavirus #coronav...</td>\n",
              "      <td>Neutral</td>\n",
              "      <td>#toiletpaper #dunnypaper #coronavirus #coronav...</td>\n",
              "      <td>3</td>\n",
              "    </tr>\n",
              "    <tr>\n",
              "      <th>...</th>\n",
              "      <td>...</td>\n",
              "      <td>...</td>\n",
              "      <td>...</td>\n",
              "      <td>...</td>\n",
              "      <td>...</td>\n",
              "      <td>...</td>\n",
              "      <td>...</td>\n",
              "      <td>...</td>\n",
              "    </tr>\n",
              "    <tr>\n",
              "      <th>3793</th>\n",
              "      <td>3794</td>\n",
              "      <td>48746</td>\n",
              "      <td>Israel ??</td>\n",
              "      <td>16-03-2020</td>\n",
              "      <td>Meanwhile In A Supermarket in Israel -- People...</td>\n",
              "      <td>Positive</td>\n",
              "      <td>Meanwhile In A Supermarket in Israel -- People...</td>\n",
              "      <td>4</td>\n",
              "    </tr>\n",
              "    <tr>\n",
              "      <th>3794</th>\n",
              "      <td>3795</td>\n",
              "      <td>48747</td>\n",
              "      <td>Farmington, NM</td>\n",
              "      <td>16-03-2020</td>\n",
              "      <td>Did you panic buy a lot of non-perishable item...</td>\n",
              "      <td>Negative</td>\n",
              "      <td>Did you panic buy a lot of non-perishable item...</td>\n",
              "      <td>2</td>\n",
              "    </tr>\n",
              "    <tr>\n",
              "      <th>3795</th>\n",
              "      <td>3796</td>\n",
              "      <td>48748</td>\n",
              "      <td>Haverford, PA</td>\n",
              "      <td>16-03-2020</td>\n",
              "      <td>Asst Prof of Economics @cconces was on @NBCPhi...</td>\n",
              "      <td>Neutral</td>\n",
              "      <td>Asst Prof of Economics @cconces was on @NBCPhi...</td>\n",
              "      <td>3</td>\n",
              "    </tr>\n",
              "    <tr>\n",
              "      <th>3796</th>\n",
              "      <td>3797</td>\n",
              "      <td>48749</td>\n",
              "      <td>NaN</td>\n",
              "      <td>16-03-2020</td>\n",
              "      <td>Gov need to do somethings instead of biar je r...</td>\n",
              "      <td>Extremely Negative</td>\n",
              "      <td>Gov need to do somethings instead of biar je r...</td>\n",
              "      <td>0</td>\n",
              "    </tr>\n",
              "    <tr>\n",
              "      <th>3797</th>\n",
              "      <td>3798</td>\n",
              "      <td>48750</td>\n",
              "      <td>Arlington, Virginia</td>\n",
              "      <td>16-03-2020</td>\n",
              "      <td>I and @ForestandPaper members are committed to...</td>\n",
              "      <td>Extremely Positive</td>\n",
              "      <td>I and @ForestandPaper members are committed to...</td>\n",
              "      <td>1</td>\n",
              "    </tr>\n",
              "  </tbody>\n",
              "</table>\n",
              "<p>3798 rows × 8 columns</p>\n",
              "</div>\n",
              "      <button class=\"colab-df-convert\" onclick=\"convertToInteractive('df-9bc23e97-0fb2-490b-8c69-c4ff526c3b0d')\"\n",
              "              title=\"Convert this dataframe to an interactive table.\"\n",
              "              style=\"display:none;\">\n",
              "        \n",
              "  <svg xmlns=\"http://www.w3.org/2000/svg\" height=\"24px\"viewBox=\"0 0 24 24\"\n",
              "       width=\"24px\">\n",
              "    <path d=\"M0 0h24v24H0V0z\" fill=\"none\"/>\n",
              "    <path d=\"M18.56 5.44l.94 2.06.94-2.06 2.06-.94-2.06-.94-.94-2.06-.94 2.06-2.06.94zm-11 1L8.5 8.5l.94-2.06 2.06-.94-2.06-.94L8.5 2.5l-.94 2.06-2.06.94zm10 10l.94 2.06.94-2.06 2.06-.94-2.06-.94-.94-2.06-.94 2.06-2.06.94z\"/><path d=\"M17.41 7.96l-1.37-1.37c-.4-.4-.92-.59-1.43-.59-.52 0-1.04.2-1.43.59L10.3 9.45l-7.72 7.72c-.78.78-.78 2.05 0 2.83L4 21.41c.39.39.9.59 1.41.59.51 0 1.02-.2 1.41-.59l7.78-7.78 2.81-2.81c.8-.78.8-2.07 0-2.86zM5.41 20L4 18.59l7.72-7.72 1.47 1.35L5.41 20z\"/>\n",
              "  </svg>\n",
              "      </button>\n",
              "      \n",
              "  <style>\n",
              "    .colab-df-container {\n",
              "      display:flex;\n",
              "      flex-wrap:wrap;\n",
              "      gap: 12px;\n",
              "    }\n",
              "\n",
              "    .colab-df-convert {\n",
              "      background-color: #E8F0FE;\n",
              "      border: none;\n",
              "      border-radius: 50%;\n",
              "      cursor: pointer;\n",
              "      display: none;\n",
              "      fill: #1967D2;\n",
              "      height: 32px;\n",
              "      padding: 0 0 0 0;\n",
              "      width: 32px;\n",
              "    }\n",
              "\n",
              "    .colab-df-convert:hover {\n",
              "      background-color: #E2EBFA;\n",
              "      box-shadow: 0px 1px 2px rgba(60, 64, 67, 0.3), 0px 1px 3px 1px rgba(60, 64, 67, 0.15);\n",
              "      fill: #174EA6;\n",
              "    }\n",
              "\n",
              "    [theme=dark] .colab-df-convert {\n",
              "      background-color: #3B4455;\n",
              "      fill: #D2E3FC;\n",
              "    }\n",
              "\n",
              "    [theme=dark] .colab-df-convert:hover {\n",
              "      background-color: #434B5C;\n",
              "      box-shadow: 0px 1px 3px 1px rgba(0, 0, 0, 0.15);\n",
              "      filter: drop-shadow(0px 1px 2px rgba(0, 0, 0, 0.3));\n",
              "      fill: #FFFFFF;\n",
              "    }\n",
              "  </style>\n",
              "\n",
              "      <script>\n",
              "        const buttonEl =\n",
              "          document.querySelector('#df-9bc23e97-0fb2-490b-8c69-c4ff526c3b0d button.colab-df-convert');\n",
              "        buttonEl.style.display =\n",
              "          google.colab.kernel.accessAllowed ? 'block' : 'none';\n",
              "\n",
              "        async function convertToInteractive(key) {\n",
              "          const element = document.querySelector('#df-9bc23e97-0fb2-490b-8c69-c4ff526c3b0d');\n",
              "          const dataTable =\n",
              "            await google.colab.kernel.invokeFunction('convertToInteractive',\n",
              "                                                     [key], {});\n",
              "          if (!dataTable) return;\n",
              "\n",
              "          const docLinkHtml = 'Like what you see? Visit the ' +\n",
              "            '<a target=\"_blank\" href=https://colab.research.google.com/notebooks/data_table.ipynb>data table notebook</a>'\n",
              "            + ' to learn more about interactive tables.';\n",
              "          element.innerHTML = '';\n",
              "          dataTable['output_type'] = 'display_data';\n",
              "          await google.colab.output.renderOutput(dataTable, element);\n",
              "          const docLink = document.createElement('div');\n",
              "          docLink.innerHTML = docLinkHtml;\n",
              "          element.appendChild(docLink);\n",
              "        }\n",
              "      </script>\n",
              "    </div>\n",
              "  </div>\n",
              "  "
            ]
          },
          "metadata": {},
          "execution_count": 21
        }
      ]
    },
    {
      "cell_type": "code",
      "execution_count": 22,
      "id": "ec046f31",
      "metadata": {
        "id": "ec046f31",
        "outputId": "a90c6b85-5099-42c1-8be8-9ea3187977e0",
        "colab": {
          "base_uri": "https://localhost:8080/"
        }
      },
      "outputs": [
        {
          "output_type": "stream",
          "name": "stdout",
          "text": [
            "0 Extremely Negative\n",
            "1 Extremely Positive\n",
            "2 Negative\n",
            "3 Neutral\n",
            "4 Positive\n"
          ]
        }
      ],
      "source": [
        "label_dict = (test_df[['Sentiment','Sentiment_label']].drop_duplicates()\n",
        "              .sort_values(by='Sentiment_label')\n",
        "              .reset_index(drop=True)['Sentiment']\n",
        "              .to_dict())\n",
        "\n",
        "for index, key in label_dict.items():\n",
        "    print(index, key)"
      ]
    },
    {
      "cell_type": "markdown",
      "source": [
        "#Block 5"
      ],
      "metadata": {
        "id": "13px_DN75qo_"
      },
      "id": "13px_DN75qo_"
    },
    {
      "cell_type": "markdown",
      "id": "ef219fca",
      "metadata": {
        "id": "ef219fca"
      },
      "source": [
        "**Splitting the data**"
      ]
    },
    {
      "cell_type": "markdown",
      "id": "9733cae1",
      "metadata": {
        "id": "9733cae1"
      },
      "source": [
        "I will take 10% of the training data as validation data"
      ]
    },
    {
      "cell_type": "code",
      "execution_count": 23,
      "id": "f7e8393b",
      "metadata": {
        "id": "f7e8393b",
        "outputId": "c08f7528-bd9e-456d-d4b8-30ec2843f1c7",
        "colab": {
          "base_uri": "https://localhost:8080/"
        }
      },
      "outputs": [
        {
          "output_type": "stream",
          "name": "stdout",
          "text": [
            "3418 training examples\n",
            "380 validation examples\n"
          ]
        }
      ],
      "source": [
        "# Get the number training samples\n",
        "num_train_samples = int(train_df.shape[0] * 0.9)\n",
        "\n",
        "x_train = train_df['OriginalTweet_no_URL'][:num_train_samples]\n",
        "y_train = train_df['Sentiment_label'][:num_train_samples]\n",
        "x_val = train_df['OriginalTweet_no_URL'][num_train_samples:]\n",
        "y_val = train_df['Sentiment_label'][num_train_samples:]\n",
        "\n",
        "### Sanity Check\n",
        "assert(len(x_train) + len(x_val) == train_df.shape[0])\n",
        "\n",
        "print(f\"{len(x_train)} training examples\\n{len(x_val)} validation examples\")"
      ]
    },
    {
      "cell_type": "code",
      "execution_count": 24,
      "id": "7c0fcac9",
      "metadata": {
        "id": "7c0fcac9",
        "outputId": "67b35ff4-6303-461f-9495-25970b7879cc",
        "colab": {
          "base_uri": "https://localhost:8080/"
        }
      },
      "outputs": [
        {
          "output_type": "stream",
          "name": "stdout",
          "text": [
            "3798 testing examples\n"
          ]
        }
      ],
      "source": [
        "x_test = test_df['OriginalTweet_no_URL']\n",
        "y_test = test_df['Sentiment_label']\n",
        "print(f\"{len(x_test)} testing examples\")"
      ]
    },
    {
      "cell_type": "code",
      "source": [
        "x_test"
      ],
      "metadata": {
        "id": "q0z1bxROtwUV",
        "outputId": "71d0ad4c-59d8-45bd-ef93-25f10642ab77",
        "colab": {
          "base_uri": "https://localhost:8080/"
        }
      },
      "id": "q0z1bxROtwUV",
      "execution_count": 25,
      "outputs": [
        {
          "output_type": "execute_result",
          "data": {
            "text/plain": [
              "0       TRENDING: New Yorkers encounter empty supermar...\n",
              "1       When I couldn't find hand sanitizer at Fred Me...\n",
              "2       Find out how you can protect yourself and love...\n",
              "3       #Panic buying hits #NewYork City as anxious sh...\n",
              "4       #toiletpaper #dunnypaper #coronavirus #coronav...\n",
              "                              ...                        \n",
              "3793    Meanwhile In A Supermarket in Israel -- People...\n",
              "3794    Did you panic buy a lot of non-perishable item...\n",
              "3795    Asst Prof of Economics @cconces was on @NBCPhi...\n",
              "3796    Gov need to do somethings instead of biar je r...\n",
              "3797    I and @ForestandPaper members are committed to...\n",
              "Name: OriginalTweet_no_URL, Length: 3798, dtype: object"
            ]
          },
          "metadata": {},
          "execution_count": 25
        }
      ]
    },
    {
      "cell_type": "markdown",
      "source": [
        "#Block 6"
      ],
      "metadata": {
        "id": "woAYZv-95xwE"
      },
      "id": "woAYZv-95xwE"
    },
    {
      "cell_type": "markdown",
      "id": "c1630270",
      "metadata": {
        "id": "c1630270"
      },
      "source": [
        "## Naive Bayes (Baseline Model)"
      ]
    },
    {
      "cell_type": "markdown",
      "id": "c1a71d16",
      "metadata": {
        "id": "c1a71d16"
      },
      "source": [
        "Pre-processing by:  \n",
        "- remove punctuations (except #)\n",
        "- lowercase all words\n",
        "- removing stopwords\n",
        "- stemming words"
      ]
    },
    {
      "cell_type": "markdown",
      "id": "572318e1",
      "metadata": {
        "id": "572318e1"
      },
      "source": [
        "*Note: I will not remove the **#** symbol because it is a predominant part of what makes tweets unique*"
      ]
    },
    {
      "cell_type": "code",
      "execution_count": 26,
      "id": "b5352bd9",
      "metadata": {
        "id": "b5352bd9",
        "outputId": "59bcbc02-413e-4ff4-d5a4-1adfd80ddaeb",
        "colab": {
          "base_uri": "https://localhost:8080/"
        }
      },
      "outputs": [
        {
          "output_type": "stream",
          "name": "stderr",
          "text": [
            "[nltk_data] Downloading package stopwords to /root/nltk_data...\n",
            "[nltk_data]   Unzipping corpora/stopwords.zip.\n"
          ]
        }
      ],
      "source": [
        "import nltk\n",
        "nltk.download('stopwords')\n",
        "stop_words = set(stopwords.words('english'))\n",
        "porter = PorterStemmer()\n",
        "\n",
        "# Remove all puncutation\n",
        "def clean_responses(text):\n",
        "    ### Remove all puncutation\n",
        "    string.punctuation = string.punctuation.replace('#','')\n",
        "    for punctuation in string.punctuation:\n",
        "        text = text.replace(punctuation, '')\n",
        "    \n",
        "    ### Lowercase\n",
        "    text = text.lower()\n",
        "    \n",
        "    ### Removing stop words\n",
        "    filtered_words = []\n",
        "    for word in text.split():\n",
        "        if word not in stop_words:\n",
        "            filtered_words.append(word)\n",
        "            \n",
        "    ### Stemming words\n",
        "    stemmed = [porter.stem(word) for word in filtered_words]\n",
        "                \n",
        "    return ' '.join(stemmed)"
      ]
    },
    {
      "cell_type": "code",
      "execution_count": 27,
      "id": "6e737de1",
      "metadata": {
        "id": "6e737de1"
      },
      "outputs": [],
      "source": [
        "X_train_NB = train_df['OriginalTweet_no_URL'].apply(clean_responses)\n",
        "y_train_NB = train_df['Sentiment_label']\n",
        "X_test_NB = test_df['OriginalTweet_no_URL'].apply(clean_responses)\n",
        "y_test_NB = test_df['Sentiment_label']"
      ]
    },
    {
      "cell_type": "markdown",
      "source": [
        "#Block 7"
      ],
      "metadata": {
        "id": "6bzXZZ8Y6Bvc"
      },
      "id": "6bzXZZ8Y6Bvc"
    },
    {
      "cell_type": "code",
      "execution_count": 28,
      "id": "ef608dcd",
      "metadata": {
        "scrolled": true,
        "id": "ef608dcd"
      },
      "outputs": [],
      "source": [
        "model = make_pipeline(TfidfVectorizer(), MultinomialNB())\n",
        "model.fit(X_train_NB, y_train_NB)\n",
        "\n",
        "### Make predictions\n",
        "y_hat = model.predict(X_test_NB)"
      ]
    },
    {
      "cell_type": "markdown",
      "source": [
        "#Block 8"
      ],
      "metadata": {
        "id": "ravua21C6GiV"
      },
      "id": "ravua21C6GiV"
    },
    {
      "cell_type": "markdown",
      "id": "81796671",
      "metadata": {
        "id": "81796671"
      },
      "source": [
        "**Results of Naive Bayes model**"
      ]
    },
    {
      "cell_type": "code",
      "execution_count": 29,
      "id": "e9ffe19b",
      "metadata": {
        "id": "e9ffe19b",
        "outputId": "3c18c326-0c6e-4bc0-c6fa-eae10c5dba71",
        "colab": {
          "base_uri": "https://localhost:8080/",
          "height": 435
        }
      },
      "outputs": [
        {
          "output_type": "stream",
          "name": "stdout",
          "text": [
            "Accuracy: 0.5763559768299105\n"
          ]
        },
        {
          "output_type": "display_data",
          "data": {
            "text/plain": [
              "<Figure size 432x288 with 2 Axes>"
            ],
            "image/png": "[encoded data removed]"
          },
          "metadata": {}
        }
      ],
      "source": [
        "print(\"Accuracy:\", accuracy_score(y_test_NB, y_hat))\n",
        "labels_5 = ['Extremely Negative','Extremely Positive','Negative','Neutral','Positive'] \n",
        "\n",
        "def print_cf1(y_test, y_hat):\n",
        "    cm = confusion_matrix(y_test, y_hat)\n",
        "    sns.set(font_scale = 1.4, color_codes=True, palette=\"deep\")\n",
        "    sns.heatmap(pd.DataFrame(cm, index=labels_5,columns=[0,1,2,3,4]), \n",
        "                annot = True,\n",
        "                annot_kws = {\"size\":16},\n",
        "                fmt=\"d\",\n",
        "                cmap=\"YlGnBu\")\n",
        "    plt.title(\"Confusion Matrix\")\n",
        "    plt.xlabel(\"Predicted Value\")\n",
        "    plt.xticks([0,1,2,3,4], labels_5, rotation=45)\n",
        "    plt.ylabel(\"True Value\")\n",
        "    plt.show()\n",
        "    \n",
        "print_cf1(y_test_NB, y_hat)"
      ]
    },
    {
      "cell_type": "code",
      "execution_count": 30,
      "id": "00673b1c",
      "metadata": {
        "id": "00673b1c",
        "outputId": "5d7b421c-ff04-47cb-f6d1-bd8bf496e474",
        "colab": {
          "base_uri": "https://localhost:8080/"
        }
      },
      "outputs": [
        {
          "output_type": "stream",
          "name": "stdout",
          "text": [
            "                    precision    recall  f1-score   support\n",
            "\n",
            "Extremely Negative       1.00      0.15      0.26       592\n",
            "Extremely Positive       0.99      0.23      0.37       599\n",
            "          Negative       0.47      0.99      0.64      1041\n",
            "           Neutral       0.99      0.23      0.37       619\n",
            "          Positive       0.64      0.84      0.73       947\n",
            "\n",
            "          accuracy                           0.58      3798\n",
            "         macro avg       0.82      0.49      0.47      3798\n",
            "      weighted avg       0.76      0.58      0.52      3798\n",
            "\n"
          ]
        }
      ],
      "source": [
        "print(classification_report(y_test_NB, y_hat, target_names=labels_5))"
      ]
    },
    {
      "cell_type": "markdown",
      "id": "7ff4bdd7",
      "metadata": {
        "id": "7ff4bdd7"
      },
      "source": [
        "## DistilBERT"
      ]
    },
    {
      "cell_type": "markdown",
      "source": [
        "#Block 9"
      ],
      "metadata": {
        "id": "JXeD90Da6PX7"
      },
      "id": "JXeD90Da6PX7"
    },
    {
      "cell_type": "markdown",
      "id": "0b7a46a8",
      "metadata": {
        "id": "0b7a46a8"
      },
      "source": [
        "**Tokenize the Inputs** "
      ]
    },
    {
      "cell_type": "code",
      "execution_count": 31,
      "id": "2d0069b4",
      "metadata": {
        "id": "2d0069b4",
        "outputId": "d45ca8d9-d216-4787-d862-3130908f7f2a",
        "colab": {
          "base_uri": "https://localhost:8080/",
          "height": 113,
          "referenced_widgets": [
            "42876beec4f94b30bb5a9e54080b2976",
            "caa7e322f30f499c93b3aa71a7323877",
            "e913196453a04e9a83ab2d44bf63726e",
            "0d1d50098be54044838fdb2c41d1a6f4",
            "a68a423f867b484095ea699c4b11a379",
            "9471030e66354477908be34251e37b06",
            "e336a0b88c634403b4fd9f53f6be857e",
            "0f96254b60544acd8fe8e44b6f3b0ad0",
            "55e0fec189c840f99fcbad45e961e3d6",
            "0a6d725bafc44ba6b9d5c01fc69eead3",
            "5b63b8053d0c4e0290af266391e52c3e",
            "b7afcfdae2b54ec7adce9c8db8483383",
            "b2f4ce1e15ec412cb58149c159750c40",
            "85b8b8d6903d49eab7b12b3f12e710e6",
            "d9026ab58ee344459ecd976f9d042188",
            "bc28528acb984b298eeb689b8df7ca76",
            "2d9d6b6483334355850ff22d4fec4fd4",
            "2fde9fe02fe8437781d241609f364d71",
            "ec38e06622b54a09a64a405658f4b218",
            "bc18684403f44d0490c76bec1a5f386b",
            "a0375d66c5e74014bab53291b344fc90",
            "4c79407775074f78b4c9bf826e11156a",
            "ebb5ad6d011c4d77995a6d201c43021e",
            "1d05006f28ae4094a6f2aa142bcad545",
            "d16d471623334564b65046d8684dd2df",
            "46471cc66a6d453a804bc2bdb4ca6131",
            "0cff7d8c704240b8803cfe0b4ad7b56b",
            "7a9d07a745d34235b1f73dfa55d3b41d",
            "905e94e65b5c4f79af069486eb14063a",
            "5df8474bda704e9d8e54dba76b38d828",
            "fa4a4d501d1a4d66b20cee1fd9cc52a0",
            "3917503976ae45e1a8fc7366594fcd53",
            "cd31a9b7fa444e59af80831b2baed7c5"
          ]
        }
      },
      "outputs": [
        {
          "output_type": "display_data",
          "data": {
            "text/plain": [
              "Downloading:   0%|          | 0.00/213k [00:00<?, ?B/s]"
            ],
            "application/vnd.jupyter.widget-view+json": {
              "version_major": 2,
              "version_minor": 0,
              "model_id": "42876beec4f94b30bb5a9e54080b2976"
            }
          },
          "metadata": {}
        },
        {
          "output_type": "display_data",
          "data": {
            "text/plain": [
              "Downloading:   0%|          | 0.00/29.0 [00:00<?, ?B/s]"
            ],
            "application/vnd.jupyter.widget-view+json": {
              "version_major": 2,
              "version_minor": 0,
              "model_id": "b7afcfdae2b54ec7adce9c8db8483383"
            }
          },
          "metadata": {}
        },
        {
          "output_type": "display_data",
          "data": {
            "text/plain": [
              "Downloading:   0%|          | 0.00/411 [00:00<?, ?B/s]"
            ],
            "application/vnd.jupyter.widget-view+json": {
              "version_major": 2,
              "version_minor": 0,
              "model_id": "ebb5ad6d011c4d77995a6d201c43021e"
            }
          },
          "metadata": {}
        }
      ],
      "source": [
        "tokenizer = DistilBertTokenizer.from_pretrained(MODEL_NAME) # Loading the tokenizer"
      ]
    },
    {
      "cell_type": "markdown",
      "id": "c9b90015",
      "metadata": {
        "id": "c9b90015"
      },
      "source": [
        "*Finding the max token sequence in the training set*"
      ]
    },
    {
      "cell_type": "code",
      "execution_count": 32,
      "id": "7a7011c7",
      "metadata": {
        "id": "7a7011c7",
        "outputId": "d5a2451d-33ef-4f2d-c719-f21e7b3b47fc",
        "colab": {
          "base_uri": "https://localhost:8080/"
        }
      },
      "outputs": [
        {
          "output_type": "stream",
          "name": "stdout",
          "text": [
            "The maximum amount of tokens in the dataset is 141\n"
          ]
        }
      ],
      "source": [
        "max_val = 0\n",
        "for sent in (x_train.tolist() + x_val.tolist()):\n",
        "    try:\n",
        "        sent_tok_len = len(tokenizer.tokenize(sent))\n",
        "        max_val = sent_tok_len if (sent_tok_len > max_val) else max_val\n",
        "    except:\n",
        "        pass\n",
        "    \n",
        "print(f\"The maximum amount of tokens in the dataset is {max_val}\")"
      ]
    },
    {
      "cell_type": "markdown",
      "id": "8b662020",
      "metadata": {
        "id": "8b662020"
      },
      "source": [
        "I will set the max length and input for the deep learning model to 143  \n",
        "*(Max token length + 2 for special characters [CLS] and [SEP])*"
      ]
    },
    {
      "cell_type": "code",
      "execution_count": 66,
      "id": "b1df84af",
      "metadata": {
        "id": "b1df84af"
      },
      "outputs": [],
      "source": [
        "MAX_LENGTH = 143\n",
        "\n",
        "tokenizer = DistilBertTokenizer.from_pretrained(MODEL_NAME,  \n",
        "                                                add_special_tokens=True,\n",
        "                                                max_length=MAX_LENGTH, \n",
        "                                                pad_to_max_length=True)\n",
        "\n",
        "def tokenize(sentences, tokenizer):\n",
        "    input_ids, input_masks, input_segments = [], [], []\n",
        "    for sentence in tqdm(sentences):\n",
        "        inputs = tokenizer.encode_plus(sentence, \n",
        "                                       add_special_tokens=True, \n",
        "                                       max_length=MAX_LENGTH, \n",
        "                                       pad_to_max_length=True, \n",
        "                                       return_attention_mask=True, \n",
        "                                       return_token_type_ids=True, \n",
        "                                       truncation=True)\n",
        "        input_ids.append(inputs['input_ids'])\n",
        "        input_masks.append(inputs['attention_mask'])\n",
        "        input_segments.append(inputs['token_type_ids'])     \n",
        "        \n",
        "    return np.asarray(input_ids, dtype='int32'), np.asarray(input_masks, dtype='int32')"
      ]
    },
    {
      "cell_type": "code",
      "execution_count": null,
      "id": "29156f79",
      "metadata": {
        "id": "29156f79"
      },
      "outputs": [],
      "source": [
        "X_train = tokenize(x_train, tokenizer)\n",
        "X_test = tokenize(x_test, tokenizer)\n",
        "X_val = tokenize(x_val, tokenizer)"
      ]
    },
    {
      "cell_type": "markdown",
      "id": "9f9676c1",
      "metadata": {
        "id": "9f9676c1"
      },
      "source": [
        "**Looking at entry**"
      ]
    },
    {
      "cell_type": "code",
      "execution_count": 35,
      "id": "317d701c",
      "metadata": {
        "scrolled": false,
        "id": "317d701c",
        "outputId": "c1396c4a-aaa0-4923-f9df-df3935407152",
        "colab": {
          "base_uri": "https://localhost:8080/"
        }
      },
      "outputs": [
        {
          "output_type": "stream",
          "name": "stdout",
          "text": [
            "Neutral \n",
            "\n",
            "Do you remember the last time you paid $2.99 a gallon for regular gas in Los Angeles?Prices at the pump are going down. A look at how the #coronavirus is impacting prices. 4pm @ABC7  \n",
            "\n",
            "ID's\tInput Tokens\n",
            "101\t[CLS]\n",
            "2091\tDo\n",
            "1128\tyou\n",
            "2676\tremember\n",
            "1103\tthe\n",
            "1314\tlast\n",
            "1159\ttime\n",
            "1128\tyou\n",
            "3004\tpaid\n",
            "109\t$\n",
            "123\t2\n",
            "119\t.\n",
            "4850\t99\n",
            "170\ta\n",
            "20003\tgal\n",
            "4934\t##lon\n",
            "1111\tfor\n",
            "2366\tregular\n",
            "3245\tgas\n",
            "1107\tin\n",
            "2238\tLos\n",
            "2460\tAngeles\n",
            "136\t?\n",
            "7510\tPrice\n",
            "1116\t##s\n",
            "1120\tat\n",
            "1103\tthe\n",
            "11188\tpump\n",
            "1132\tare\n",
            "1280\tgoing\n",
            "1205\tdown\n",
            "119\t.\n",
            "138\tA\n",
            "1440\tlook\n",
            "1120\tat\n",
            "1293\thow\n",
            "1103\tthe\n",
            "108\t#\n",
            "1884\tco\n",
            "15789\t##rona\n",
            "27608\t##virus\n",
            "1110\tis\n",
            "3772\timpact\n",
            "1158\t##ing\n",
            "7352\tprices\n",
            "119\t.\n",
            "125\t4\n",
            "9952\t##pm\n",
            "137\t@\n",
            "5254\tABC\n",
            "1559\t##7\n",
            "102\t[SEP]\n"
          ]
        }
      ],
      "source": [
        "index_num = 5\n",
        "\n",
        "print(train_df.loc[index_num]['Sentiment'], '\\n')\n",
        "\n",
        "print(x_train[index_num], '\\n')\n",
        "\n",
        "temp_tokens = tokenizer.tokenize(x_train[index_num])\n",
        "temp_ids = tokenizer.encode(x_train[index_num])\n",
        "\n",
        "print('ID\\'s', 'Input Tokens', sep='\\t')\n",
        "for i in range(len(temp_ids)):\n",
        "    if i == 0:\n",
        "        print(temp_ids[i], '[CLS]', sep='\\t')\n",
        "        continue\n",
        "    if i == len(temp_ids)-1:\n",
        "        print(temp_ids[i], '[SEP]', sep='\\t')\n",
        "        break\n",
        "    print(temp_ids[i], temp_tokens[i-1], sep='\\t')"
      ]
    },
    {
      "cell_type": "markdown",
      "source": [
        "#Block 10"
      ],
      "metadata": {
        "id": "gEuwMDK96XNV"
      },
      "id": "gEuwMDK96XNV"
    },
    {
      "cell_type": "markdown",
      "id": "ff836804",
      "metadata": {
        "id": "ff836804"
      },
      "source": [
        "### Creating the model"
      ]
    },
    {
      "cell_type": "code",
      "execution_count": 36,
      "id": "e14727c9",
      "metadata": {
        "id": "e14727c9",
        "outputId": "e0a0c780-638e-436e-cfba-61a948837385",
        "colab": {
          "base_uri": "https://localhost:8080/",
          "height": 882,
          "referenced_widgets": [
            "82750187d74f44f99b2b22e7733cab8e",
            "7cee66ba2e59426aaab8ad5bae9fb991",
            "fa199c6f078746c5aecc3af53815b50e",
            "c65bfc33edb541eab59e7bfaeec898f5",
            "661d22c4e8904fce81720973acdca054",
            "a73fe073a6854b7bba7e7a66e5f07235",
            "4d9ff926b7f046acb04244a57ddec2ac",
            "8565e7aa9ed04dddaece1804f55bfd52",
            "44adbbbfb1614fb2b52686104d62bc66",
            "e37eafc7c3d24018bed922fafbeea9dd",
            "c3647a9d488d47249aea933402cc5e9f"
          ]
        }
      },
      "outputs": [
        {
          "output_type": "display_data",
          "data": {
            "text/plain": [
              "Downloading:   0%|          | 0.00/354M [00:00<?, ?B/s]"
            ],
            "application/vnd.jupyter.widget-view+json": {
              "version_major": 2,
              "version_minor": 0,
              "model_id": "82750187d74f44f99b2b22e7733cab8e"
            }
          },
          "metadata": {}
        },
        {
          "output_type": "stream",
          "name": "stdout",
          "text": [
            "Model: \"model\"\n",
            "__________________________________________________________________________________________________\n",
            " Layer (type)                   Output Shape         Param #     Connected to                     \n",
            "==================================================================================================\n",
            " input_token (InputLayer)       [(None, 143)]        0           []                               \n",
            "                                                                                                  \n",
            " masked_token (InputLayer)      [(None, 143)]        0           []                               \n",
            "                                                                                                  \n",
            " tf_distil_bert_model (TFDistil  TFBaseModelOutput(l  65190912   ['input_token[0][0]',            \n",
            " BertModel)                     ast_hidden_state=(N               'masked_token[0][0]']           \n",
            "                                one, 143, 768),                                                   \n",
            "                                 hidden_states=((No                                               \n",
            "                                ne, 143, 768),                                                    \n",
            "                                 (None, 143, 768),                                                \n",
            "                                 (None, 143, 768),                                                \n",
            "                                 (None, 143, 768),                                                \n",
            "                                 (None, 143, 768),                                                \n",
            "                                 (None, 143, 768),                                                \n",
            "                                 (None, 143, 768)),                                               \n",
            "                                 attentions=((None,                                               \n",
            "                                 12, None, 143),                                                  \n",
            "                                 (None, 12, None, 1                                               \n",
            "                                43),                                                              \n",
            "                                 (None, 12, None, 1                                               \n",
            "                                43),                                                              \n",
            "                                 (None, 12, None, 1                                               \n",
            "                                43),                                                              \n",
            "                                 (None, 12, None, 1                                               \n",
            "                                43),                                                              \n",
            "                                 (None, 12, None, 1                                               \n",
            "                                43)))                                                             \n",
            "                                                                                                  \n",
            " bidirectional (Bidirectional)  (None, 143, 256)     918528      ['tf_distil_bert_model[0][13]']  \n",
            "                                                                                                  \n",
            " global_max_pooling1d (GlobalMa  (None, 256)         0           ['bidirectional[0][0]']          \n",
            " xPooling1D)                                                                                      \n",
            "                                                                                                  \n",
            " dense (Dense)                  (None, 64)           16448       ['global_max_pooling1d[0][0]']   \n",
            "                                                                                                  \n",
            " dropout_19 (Dropout)           (None, 64)           0           ['dense[0][0]']                  \n",
            "                                                                                                  \n",
            " dense_1 (Dense)                (None, 5)            325         ['dropout_19[0][0]']             \n",
            "                                                                                                  \n",
            "==================================================================================================\n",
            "Total params: 66,126,213\n",
            "Trainable params: 935,301\n",
            "Non-trainable params: 65,190,912\n",
            "__________________________________________________________________________________________________\n"
          ]
        }
      ],
      "source": [
        "config = DistilBertConfig.from_pretrained(MODEL_NAME, output_hidden_states=True, output_attentions=True)\n",
        "DistilBERT = TFDistilBertModel.from_pretrained(MODEL_NAME, config=config)\n",
        "\n",
        "input_ids_in = tf.keras.layers.Input(shape=(MAX_LENGTH,), name='input_token', dtype='int32')\n",
        "input_masks_in = tf.keras.layers.Input(shape=(MAX_LENGTH,), name='masked_token', dtype='int32') \n",
        "\n",
        "embedding_layer = DistilBERT(input_ids = input_ids_in, attention_mask = input_masks_in)[0]\n",
        "X = tf.keras.layers.Bidirectional(tf.keras.layers.LSTM(128, return_sequences=True))(embedding_layer)\n",
        "X = tf.keras.layers.GlobalMaxPool1D()(X)\n",
        "X = tf.keras.layers.Dense(64, activation='relu')(X)\n",
        "X = tf.keras.layers.Dropout(0.2)(X)\n",
        "X = tf.keras.layers.Dense(5, activation='softmax')(X)\n",
        "\n",
        "model = tf.keras.Model(inputs=[input_ids_in, input_masks_in], outputs = X)\n",
        "\n",
        "for layer in model.layers[:3]:\n",
        "    layer.trainable = False\n",
        "\n",
        "model.summary()"
      ]
    },
    {
      "cell_type": "markdown",
      "source": [
        "#Block 11"
      ],
      "metadata": {
        "id": "DR_Omn3W6a4Z"
      },
      "id": "DR_Omn3W6a4Z"
    },
    {
      "cell_type": "markdown",
      "id": "1ec73dae",
      "metadata": {
        "id": "1ec73dae"
      },
      "source": [
        "*Creating a output directory to store the models weights*"
      ]
    },
    {
      "cell_type": "code",
      "execution_count": 37,
      "id": "31c8f760",
      "metadata": {
        "id": "31c8f760"
      },
      "outputs": [],
      "source": [
        "### Create an output directory\n",
        "output_dir = './model1_outputs'\n",
        "if not os.path.exists(output_dir): ### If the file directory doesn't already exists,\n",
        "    os.makedirs(output_dir) ### Make it please"
      ]
    },
    {
      "cell_type": "markdown",
      "source": [
        "#Block 12"
      ],
      "metadata": {
        "id": "N9TLvhwv6eKQ"
      },
      "id": "N9TLvhwv6eKQ"
    },
    {
      "cell_type": "markdown",
      "id": "f202c582",
      "metadata": {
        "id": "f202c582"
      },
      "source": [
        "*Callbacks*"
      ]
    },
    {
      "cell_type": "code",
      "execution_count": 38,
      "id": "69f6bb9b",
      "metadata": {
        "id": "69f6bb9b"
      },
      "outputs": [],
      "source": [
        "model_checkpoint = ModelCheckpoint(filepath=output_dir+'/weights.{epoch:02d}.hdf5',\n",
        "                                  save_weights_only=True)\n",
        "\n",
        "early_stopping = EarlyStopping(patience=3, # Stop after 3 epochs of no improvement\n",
        "                               monitor='val_loss', # Look at validation_loss\n",
        "                               min_delta=0, # After 0 change\n",
        "                               mode='min', # Stop when quantity has stopped decreasing\n",
        "                               restore_best_weights=False, # Don't Restore the best weights\n",
        "                               verbose=1) \n",
        "\n",
        "reduce_lr =    ReduceLROnPlateau(monitor='val_loss', # Look at validation loss\n",
        "                              min_lr=0.000001, # Lower bound of learning rate\n",
        "                              patience=1, # Reduce after 1 with little change\n",
        "                              mode='min', # Stop when quantity has stopped decreasing\n",
        "                              factor=0.1, # Reduce by a factor of 1/10\n",
        "                              min_delta=0.01, # Minimumn change needed\n",
        "                              verbose=1)"
      ]
    },
    {
      "cell_type": "markdown",
      "source": [
        "#Block 13"
      ],
      "metadata": {
        "id": "wT2Zb6Bl6h-N"
      },
      "id": "wT2Zb6Bl6h-N"
    },
    {
      "cell_type": "markdown",
      "id": "7d65a407",
      "metadata": {
        "id": "7d65a407"
      },
      "source": [
        "**Compile and train**"
      ]
    },
    {
      "cell_type": "code",
      "execution_count": 39,
      "id": "aa02f04f",
      "metadata": {
        "id": "aa02f04f",
        "outputId": "c6948ecc-e339-4788-998c-d36cd153537b",
        "colab": {
          "base_uri": "https://localhost:8080/"
        }
      },
      "outputs": [
        {
          "output_type": "stream",
          "name": "stdout",
          "text": [
            "Epoch 1/10\n",
            "214/214 [==============================] - 38s 129ms/step - loss: 1.5319 - accuracy: 0.2908 - val_loss: 1.3681 - val_accuracy: 0.3974 - lr: 0.0010\n",
            "Epoch 2/10\n",
            "214/214 [==============================] - 26s 122ms/step - loss: 1.3531 - accuracy: 0.4017 - val_loss: 1.2685 - val_accuracy: 0.4395 - lr: 0.0010\n",
            "Epoch 3/10\n",
            "214/214 [==============================] - 26s 121ms/step - loss: 1.2504 - accuracy: 0.4623 - val_loss: 1.1804 - val_accuracy: 0.4816 - lr: 0.0010\n",
            "Epoch 4/10\n",
            "214/214 [==============================] - ETA: 0s - loss: 1.1598 - accuracy: 0.5099\n",
            "Epoch 4: ReduceLROnPlateau reducing learning rate to 0.00010000000474974513.\n",
            "214/214 [==============================] - 26s 119ms/step - loss: 1.1598 - accuracy: 0.5099 - val_loss: 1.2157 - val_accuracy: 0.4421 - lr: 0.0010\n",
            "Epoch 5/10\n",
            "214/214 [==============================] - 26s 121ms/step - loss: 1.0145 - accuracy: 0.5922 - val_loss: 1.1632 - val_accuracy: 0.5132 - lr: 1.0000e-04\n",
            "Epoch 6/10\n",
            "214/214 [==============================] - ETA: 0s - loss: 0.9691 - accuracy: 0.6270\n",
            "Epoch 6: ReduceLROnPlateau reducing learning rate to 1.0000000474974514e-05.\n",
            "214/214 [==============================] - 26s 120ms/step - loss: 0.9691 - accuracy: 0.6270 - val_loss: 1.1625 - val_accuracy: 0.4947 - lr: 1.0000e-04\n",
            "Epoch 7/10\n",
            "214/214 [==============================] - ETA: 0s - loss: 0.9418 - accuracy: 0.6322\n",
            "Epoch 7: ReduceLROnPlateau reducing learning rate to 1.0000000656873453e-06.\n",
            "214/214 [==============================] - 26s 119ms/step - loss: 0.9418 - accuracy: 0.6322 - val_loss: 1.1619 - val_accuracy: 0.5000 - lr: 1.0000e-05\n",
            "Epoch 8/10\n",
            "214/214 [==============================] - ETA: 0s - loss: 0.9367 - accuracy: 0.6346\n",
            "Epoch 8: ReduceLROnPlateau reducing learning rate to 1e-06.\n",
            "214/214 [==============================] - 25s 119ms/step - loss: 0.9367 - accuracy: 0.6346 - val_loss: 1.1620 - val_accuracy: 0.5000 - lr: 1.0000e-06\n",
            "Epoch 9/10\n",
            "214/214 [==============================] - 26s 119ms/step - loss: 0.9323 - accuracy: 0.6346 - val_loss: 1.1620 - val_accuracy: 0.5000 - lr: 1.0000e-06\n",
            "Epoch 10/10\n",
            "214/214 [==============================] - 26s 120ms/step - loss: 0.9360 - accuracy: 0.6372 - val_loss: 1.1620 - val_accuracy: 0.5000 - lr: 1.0000e-06\n",
            "Epoch 10: early stopping\n"
          ]
        }
      ],
      "source": [
        "model.compile(loss='sparse_categorical_crossentropy', optimizer='adam', metrics=['accuracy'])\n",
        "\n",
        "history = model.fit(X_train, \n",
        "                    y_train, \n",
        "                    epochs = 10,\n",
        "                    batch_size=16, \n",
        "                    validation_data=(X_val, y_val), \n",
        "                    callbacks=[model_checkpoint, early_stopping, reduce_lr])"
      ]
    },
    {
      "cell_type": "markdown",
      "source": [
        "#Block 14"
      ],
      "metadata": {
        "id": "ZeB553N76mVc"
      },
      "id": "ZeB553N76mVc"
    },
    {
      "cell_type": "markdown",
      "id": "124050cd",
      "metadata": {
        "id": "124050cd"
      },
      "source": [
        "Plotting the training accuracy and loss"
      ]
    },
    {
      "cell_type": "code",
      "execution_count": 40,
      "id": "e44380fc",
      "metadata": {
        "id": "e44380fc",
        "outputId": "54a76c31-53b1-4c03-edab-c5d57b31b901",
        "colab": {
          "base_uri": "https://localhost:8080/",
          "height": 382
        }
      },
      "outputs": [
        {
          "output_type": "stream",
          "name": "stdout",
          "text": [
            "Lowest Validation Loss: epoch 7\n",
            "Highest Validation Accuracy: epoch 5\n"
          ]
        },
        {
          "output_type": "display_data",
          "data": {
            "text/plain": [
              "<Figure size 864x360 with 2 Axes>"
            ],
            "image/png": "[encoded data removed]"
          },
          "metadata": {}
        }
      ],
      "source": [
        "def plot_history(history):\n",
        "    acc = history.history['accuracy']\n",
        "    val_acc = history.history['val_accuracy']\n",
        "    loss = history.history['loss']\n",
        "    val_loss = history.history['val_loss']\n",
        "    x = range(1, len(acc) + 1)\n",
        "\n",
        "    plt.figure(figsize=(12, 5))\n",
        "    plt.subplot(1, 2, 1)\n",
        "    plt.plot(x, acc, 'b', label='Training acc')\n",
        "    plt.plot(x, val_acc, 'r', label='Validation acc')\n",
        "    plt.title('Training and validation accuracy')\n",
        "    plt.legend()\n",
        "    plt.subplot(1, 2, 2)\n",
        "    plt.plot(x, loss, 'b', label='Training loss')\n",
        "    plt.plot(x, val_loss, 'r', label='Validation loss')\n",
        "    plt.title('Training and validation loss')\n",
        "    plt.legend()\n",
        "    print(\"Lowest Validation Loss: epoch {}\".format(np.argmin(val_loss)+1))\n",
        "    print(\"Highest Validation Accuracy: epoch {}\".format(np.argmax(val_acc)+1))\n",
        "\n",
        "plot_history(history)"
      ]
    },
    {
      "cell_type": "markdown",
      "id": "68d81661",
      "metadata": {
        "id": "68d81661"
      },
      "source": [
        "Loading the model with the best validation accuracy"
      ]
    },
    {
      "cell_type": "code",
      "execution_count": 41,
      "id": "3e5f9e2c",
      "metadata": {
        "id": "3e5f9e2c"
      },
      "outputs": [],
      "source": [
        "def get_min_val_loss_epoch(history):\n",
        "    return \"0\"+str(np.argmin(history.history['val_loss'])+1)\n",
        "\n",
        "def get_max_val_acc_epoch(history):\n",
        "    return \"0\"+str(np.argmax(history.history['val_accuracy'])+1)"
      ]
    },
    {
      "cell_type": "code",
      "execution_count": 42,
      "id": "bb45c79f",
      "metadata": {
        "id": "bb45c79f"
      },
      "outputs": [],
      "source": [
        "epoch_num = get_max_val_acc_epoch(history)\n",
        "model.load_weights(output_dir+\"/weights.\"+epoch_num+\".hdf5\") # Load in model weights"
      ]
    },
    {
      "cell_type": "markdown",
      "source": [
        "#Block 15"
      ],
      "metadata": {
        "id": "ehjVzQM_6qW0"
      },
      "id": "ehjVzQM_6qW0"
    },
    {
      "cell_type": "markdown",
      "id": "8ad1f61c",
      "metadata": {
        "id": "8ad1f61c"
      },
      "source": [
        "**Making inference on the test data**"
      ]
    },
    {
      "cell_type": "code",
      "execution_count": 43,
      "id": "aaf8917e",
      "metadata": {
        "id": "aaf8917e",
        "outputId": "28682ed0-99b2-45ef-ed74-ae5e26ed784e",
        "colab": {
          "base_uri": "https://localhost:8080/"
        }
      },
      "outputs": [
        {
          "output_type": "stream",
          "name": "stdout",
          "text": [
            "119/119 [==============================] - 21s 163ms/step\n"
          ]
        }
      ],
      "source": [
        "y_test_probs = model.predict(X_test)\n",
        "\n",
        "# Turn probabilities into an interger prediction\n",
        "y_hat = []\n",
        "for prob in y_test_probs:\n",
        "    y_hat.append(np.argmax(prob))"
      ]
    },
    {
      "cell_type": "markdown",
      "id": "d51c6ea7",
      "metadata": {
        "id": "d51c6ea7"
      },
      "source": [
        "**Results**"
      ]
    },
    {
      "cell_type": "code",
      "execution_count": 44,
      "id": "e79eeca9",
      "metadata": {
        "id": "e79eeca9",
        "outputId": "be6e28a7-98d5-49d7-9092-55af08687aef",
        "colab": {
          "base_uri": "https://localhost:8080/",
          "height": 435
        }
      },
      "outputs": [
        {
          "output_type": "stream",
          "name": "stdout",
          "text": [
            "Accuracy: 0.6374407582938388\n"
          ]
        },
        {
          "output_type": "display_data",
          "data": {
            "text/plain": [
              "<Figure size 432x288 with 2 Axes>"
            ],
            "image/png": "[encoded data removed]"
          },
          "metadata": {}
        }
      ],
      "source": [
        "print(\"Accuracy:\", accuracy_score(y_test, y_hat))\n",
        "print_cf1(y_test, y_hat)"
      ]
    },
    {
      "cell_type": "code",
      "execution_count": 45,
      "id": "dd8c05b6",
      "metadata": {
        "id": "dd8c05b6",
        "outputId": "5390d41d-bfec-4bfc-a925-4597d92ee306",
        "colab": {
          "base_uri": "https://localhost:8080/"
        }
      },
      "outputs": [
        {
          "output_type": "stream",
          "name": "stdout",
          "text": [
            "                    precision    recall  f1-score   support\n",
            "\n",
            "Extremely Negative       0.76      0.65      0.70       592\n",
            "Extremely Positive       0.73      0.61      0.66       599\n",
            "          Negative       0.57      0.66      0.61      1041\n",
            "           Neutral       0.64      0.74      0.68       619\n",
            "          Positive       0.60      0.55      0.58       947\n",
            "\n",
            "          accuracy                           0.64      3798\n",
            "         macro avg       0.66      0.64      0.65      3798\n",
            "      weighted avg       0.64      0.64      0.64      3798\n",
            "\n"
          ]
        }
      ],
      "source": [
        "print(classification_report(y_test, y_hat, target_names=labels_5))"
      ]
    },
    {
      "cell_type": "markdown",
      "source": [
        "#Block 16"
      ],
      "metadata": {
        "id": "g6W3f8g96vBX"
      },
      "id": "g6W3f8g96vBX"
    },
    {
      "cell_type": "markdown",
      "id": "ba1225ab",
      "metadata": {
        "id": "ba1225ab"
      },
      "source": [
        "## Combining Labels and Re-Running"
      ]
    },
    {
      "cell_type": "code",
      "execution_count": 46,
      "id": "e0b4872a",
      "metadata": {
        "id": "e0b4872a",
        "outputId": "11792ecd-8003-46fd-ccc5-46b50e46e92f",
        "colab": {
          "base_uri": "https://localhost:8080/"
        }
      },
      "outputs": [
        {
          "output_type": "stream",
          "name": "stdout",
          "text": [
            "0 Negative\n",
            "1 Neutral\n",
            "2 Positive\n"
          ]
        }
      ],
      "source": [
        "def combining_labels(row):\n",
        "    if row in 'Extremely Positive':        \n",
        "        return 'Positive' \n",
        "    if row in 'Extremely Negative':\n",
        "        return 'Negative'\n",
        "    return row\n",
        "\n",
        "### Combining Labels\n",
        "train_df['Simple_Sentiment'] = train_df['Sentiment'].apply(combining_labels)\n",
        "test_df['Simple_Sentiment'] = test_df['Sentiment'].apply(combining_labels)\n",
        "\n",
        "### Encoding the labels\n",
        "le = LabelEncoder()\n",
        "train_df['Simple_Sentiment_label'] = le.fit_transform(train_df['Simple_Sentiment'])\n",
        "test_df['Simple_Sentiment_label'] = le.transform(test_df['Simple_Sentiment'])\n",
        "\n",
        "label_dict = (test_df[['Simple_Sentiment','Simple_Sentiment_label']].drop_duplicates()\n",
        "              .sort_values(by='Simple_Sentiment_label')\n",
        "              .reset_index(drop=True)['Simple_Sentiment']\n",
        "              .to_dict())\n",
        "\n",
        "for index, key in label_dict.items():\n",
        "    print(index, key)"
      ]
    },
    {
      "cell_type": "code",
      "execution_count": 47,
      "id": "1b2d28fe",
      "metadata": {
        "id": "1b2d28fe",
        "outputId": "40cd2149-2b25-41d9-cbcb-e54b71e3d343",
        "colab": {
          "base_uri": "https://localhost:8080/",
          "height": 414
        }
      },
      "outputs": [
        {
          "output_type": "display_data",
          "data": {
            "text/plain": [
              "<Figure size 720x360 with 2 Axes>"
            ],
            "image/png": "[encoded data removed]"
          },
          "metadata": {}
        }
      ],
      "source": [
        "reorder_labels = [2,1,0]\n",
        "reorder = ['Positive', 'Neutral', 'Negative']\n",
        "\n",
        "fig, axes = plt.subplots(1,2 , figsize=(10,5))\n",
        "\n",
        "train_df.value_counts('Simple_Sentiment_label').reindex(index=reorder_labels).plot(kind='bar', ax=axes[0])\n",
        "plt.sca(axes[0])\n",
        "plt.xticks(reorder_labels, reorder, rotation=45, horizontalalignment='right')\n",
        "plt.title('Training Dataset')\n",
        "plt.ylabel('Counts')\n",
        "plt.xlabel('Label')\n",
        "\n",
        "test_df.value_counts('Simple_Sentiment_label').reindex(index=reorder_labels).plot(kind='bar', ax=axes[1])\n",
        "plt.sca(axes[1])\n",
        "plt.xticks(reorder_labels, reorder, rotation=45, horizontalalignment='right')\n",
        "plt.title('Testing Dataset')\n",
        "plt.xlabel('Label');"
      ]
    },
    {
      "cell_type": "markdown",
      "id": "06ad3e24",
      "metadata": {
        "id": "06ad3e24"
      },
      "source": [
        "Splitting datasets"
      ]
    },
    {
      "cell_type": "code",
      "execution_count": 48,
      "id": "9c1bdd5b",
      "metadata": {
        "id": "9c1bdd5b",
        "outputId": "db5558eb-fccf-45ae-c13d-5f7497f711a0",
        "colab": {
          "base_uri": "https://localhost:8080/"
        }
      },
      "outputs": [
        {
          "output_type": "stream",
          "name": "stdout",
          "text": [
            "3418 training examples\n",
            "380 validation examples\n",
            "3798 testing examples\n"
          ]
        }
      ],
      "source": [
        "### Only need to modify the labels\n",
        "y_train = train_df['Simple_Sentiment_label'][:num_train_samples]\n",
        "y_val = train_df['Simple_Sentiment_label'][num_train_samples:]\n",
        "y_test = test_df['Simple_Sentiment_label']\n",
        "\n",
        "print(f\"{len(y_train)} training examples\\n{len(y_val)} validation examples\")\n",
        "print(f\"{len(y_test)} testing examples\")"
      ]
    },
    {
      "cell_type": "markdown",
      "id": "60439187",
      "metadata": {
        "id": "60439187"
      },
      "source": [
        "### Naive Bayes (Baseline)"
      ]
    },
    {
      "cell_type": "code",
      "execution_count": 49,
      "id": "b9177dcb",
      "metadata": {
        "id": "b9177dcb"
      },
      "outputs": [],
      "source": [
        "y_train_NB = train_df['Simple_Sentiment_label']\n",
        "y_test_NB = test_df['Simple_Sentiment_label']"
      ]
    },
    {
      "cell_type": "code",
      "execution_count": 50,
      "id": "9a9d0559",
      "metadata": {
        "id": "9a9d0559"
      },
      "outputs": [],
      "source": [
        "model = make_pipeline(TfidfVectorizer(), MultinomialNB())\n",
        "model.fit(X_train_NB, y_train_NB)\n",
        "\n",
        "### Make predictions\n",
        "y_hat = model.predict(X_test_NB)"
      ]
    },
    {
      "cell_type": "markdown",
      "id": "472d46a6",
      "metadata": {
        "id": "472d46a6"
      },
      "source": [
        "**Results**"
      ]
    },
    {
      "cell_type": "code",
      "execution_count": 51,
      "id": "2241f468",
      "metadata": {
        "id": "2241f468",
        "outputId": "70bb7b1b-a933-48ba-e332-a31de8d74031",
        "colab": {
          "base_uri": "https://localhost:8080/",
          "height": 376
        }
      },
      "outputs": [
        {
          "output_type": "stream",
          "name": "stdout",
          "text": [
            "Accuracy: 0.792259083728278\n"
          ]
        },
        {
          "output_type": "display_data",
          "data": {
            "text/plain": [
              "<Figure size 432x288 with 2 Axes>"
            ],
            "image/png": "[encoded data removed]"
          },
          "metadata": {}
        }
      ],
      "source": [
        "print(\"Accuracy:\", accuracy_score(y_test_NB, y_hat))\n",
        "labels_3 = ['Negative','Neutral','Positive'] \n",
        "\n",
        "def print_cf2(y_test, y_hat):\n",
        "    cm = confusion_matrix(y_test, y_hat)\n",
        "    sns.set(font_scale = 1.4, color_codes=True, palette=\"deep\")\n",
        "    sns.heatmap(pd.DataFrame(cm, index=labels_3,columns=[0,1,2]), \n",
        "                annot = True,\n",
        "                annot_kws = {\"size\":16},\n",
        "                fmt=\"d\",\n",
        "                cmap=\"YlGnBu\")\n",
        "    plt.title(\"Confusion Matrix\")\n",
        "    plt.xlabel(\"Predicted Value\")\n",
        "    plt.xticks([0,1,2], labels_3, rotation=45)\n",
        "    plt.ylabel(\"True Value\")\n",
        "    plt.show()\n",
        "    \n",
        "print_cf2(y_test_NB, y_hat)"
      ]
    },
    {
      "cell_type": "code",
      "execution_count": 52,
      "id": "5e5fa034",
      "metadata": {
        "id": "5e5fa034",
        "outputId": "12103c91-144f-4f9d-d2e5-096efc9541c7",
        "colab": {
          "base_uri": "https://localhost:8080/"
        }
      },
      "outputs": [
        {
          "output_type": "stream",
          "name": "stdout",
          "text": [
            "              precision    recall  f1-score   support\n",
            "\n",
            "    Negative       0.76      0.97      0.85      1633\n",
            "     Neutral       1.00      0.05      0.09       619\n",
            "    Positive       0.83      0.90      0.87      1546\n",
            "\n",
            "    accuracy                           0.79      3798\n",
            "   macro avg       0.86      0.64      0.60      3798\n",
            "weighted avg       0.83      0.79      0.73      3798\n",
            "\n"
          ]
        }
      ],
      "source": [
        "print(classification_report(y_test_NB, y_hat, target_names=labels_3))"
      ]
    },
    {
      "cell_type": "markdown",
      "id": "4df8a48b",
      "metadata": {
        "id": "4df8a48b"
      },
      "source": [
        "Our baseline to beat is **63% accuracy** in our predictions"
      ]
    },
    {
      "cell_type": "markdown",
      "id": "80af2a33",
      "metadata": {
        "id": "80af2a33"
      },
      "source": [
        "## DistilBERT"
      ]
    },
    {
      "cell_type": "markdown",
      "id": "c7088a63",
      "metadata": {
        "id": "c7088a63"
      },
      "source": [
        "### Creating the model"
      ]
    },
    {
      "cell_type": "code",
      "execution_count": 53,
      "id": "2403b26f",
      "metadata": {
        "scrolled": false,
        "id": "2403b26f",
        "outputId": "c718b368-e7ef-4fac-fb5d-f23fee8744d0",
        "colab": {
          "base_uri": "https://localhost:8080/"
        }
      },
      "outputs": [
        {
          "output_type": "stream",
          "name": "stdout",
          "text": [
            "Model: \"model_1\"\n",
            "__________________________________________________________________________________________________\n",
            " Layer (type)                   Output Shape         Param #     Connected to                     \n",
            "==================================================================================================\n",
            " input_token (InputLayer)       [(None, 143)]        0           []                               \n",
            "                                                                                                  \n",
            " masked_token (InputLayer)      [(None, 143)]        0           []                               \n",
            "                                                                                                  \n",
            " tf_distil_bert_model_1 (TFDist  TFBaseModelOutput(l  65190912   ['input_token[0][0]',            \n",
            " ilBertModel)                   ast_hidden_state=(N               'masked_token[0][0]']           \n",
            "                                one, 143, 768),                                                   \n",
            "                                 hidden_states=((No                                               \n",
            "                                ne, 143, 768),                                                    \n",
            "                                 (None, 143, 768),                                                \n",
            "                                 (None, 143, 768),                                                \n",
            "                                 (None, 143, 768),                                                \n",
            "                                 (None, 143, 768),                                                \n",
            "                                 (None, 143, 768),                                                \n",
            "                                 (None, 143, 768)),                                               \n",
            "                                 attentions=((None,                                               \n",
            "                                 12, None, 143),                                                  \n",
            "                                 (None, 12, None, 1                                               \n",
            "                                43),                                                              \n",
            "                                 (None, 12, None, 1                                               \n",
            "                                43),                                                              \n",
            "                                 (None, 12, None, 1                                               \n",
            "                                43),                                                              \n",
            "                                 (None, 12, None, 1                                               \n",
            "                                43),                                                              \n",
            "                                 (None, 12, None, 1                                               \n",
            "                                43)))                                                             \n",
            "                                                                                                  \n",
            " bidirectional_1 (Bidirectional  (None, 143, 256)    918528      ['tf_distil_bert_model_1[0][13]']\n",
            " )                                                                                                \n",
            "                                                                                                  \n",
            " global_max_pooling1d_1 (Global  (None, 256)         0           ['bidirectional_1[0][0]']        \n",
            " MaxPooling1D)                                                                                    \n",
            "                                                                                                  \n",
            " dense_2 (Dense)                (None, 64)           16448       ['global_max_pooling1d_1[0][0]'] \n",
            "                                                                                                  \n",
            " dropout_39 (Dropout)           (None, 64)           0           ['dense_2[0][0]']                \n",
            "                                                                                                  \n",
            " dense_3 (Dense)                (None, 3)            195         ['dropout_39[0][0]']             \n",
            "                                                                                                  \n",
            "==================================================================================================\n",
            "Total params: 66,126,083\n",
            "Trainable params: 935,171\n",
            "Non-trainable params: 65,190,912\n",
            "__________________________________________________________________________________________________\n"
          ]
        }
      ],
      "source": [
        "config = DistilBertConfig.from_pretrained(MODEL_NAME, output_hidden_states=True, output_attentions=True, return_dict=True)\n",
        "DistilBERT = TFDistilBertModel.from_pretrained(MODEL_NAME, config=config)\n",
        "\n",
        "input_ids_in = tf.keras.layers.Input(shape=(MAX_LENGTH,), name='input_token', dtype='int32')\n",
        "attention_mask_in = tf.keras.layers.Input(shape=(MAX_LENGTH,), name='masked_token', dtype='int32') \n",
        "\n",
        "embedding_layer = DistilBERT(input_ids = input_ids_in, attention_mask = attention_mask_in)[0]\n",
        "X = tf.keras.layers.Bidirectional(tf.keras.layers.LSTM(128, return_sequences=True))(embedding_layer)\n",
        "X = tf.keras.layers.GlobalMaxPool1D()(X)\n",
        "X = tf.keras.layers.Dense(64, activation='relu')(X)\n",
        "X = tf.keras.layers.Dropout(0.2)(X)\n",
        "X = tf.keras.layers.Dense(3, activation='softmax')(X)\n",
        "\n",
        "model = tf.keras.Model(inputs=[input_ids_in, attention_mask_in], outputs = X)\n",
        "\n",
        "for layer in model.layers[:3]:\n",
        "    layer.trainable = False\n",
        "\n",
        "model.summary()"
      ]
    },
    {
      "cell_type": "markdown",
      "id": "73cba7b4",
      "metadata": {
        "id": "73cba7b4"
      },
      "source": [
        "*Creating a new output director to store the models weights*"
      ]
    },
    {
      "cell_type": "code",
      "execution_count": 54,
      "id": "d5892bc1",
      "metadata": {
        "id": "d5892bc1"
      },
      "outputs": [],
      "source": [
        "### Create an output directory\n",
        "output_dir = './model2_outputs'\n",
        "if not os.path.exists(output_dir): ### If the file directory doesn't already exists,\n",
        "    os.makedirs(output_dir) ### Make it please"
      ]
    },
    {
      "cell_type": "markdown",
      "id": "b3740f97",
      "metadata": {
        "id": "b3740f97"
      },
      "source": [
        "**Compile and train**"
      ]
    },
    {
      "cell_type": "code",
      "source": [
        "model_checkpoint = ModelCheckpoint(filepath=output_dir+'/weights.{epoch:02d}.hdf5',\n",
        "                                  save_weights_only=True)"
      ],
      "metadata": {
        "id": "S7086RVx7eKK"
      },
      "id": "S7086RVx7eKK",
      "execution_count": 55,
      "outputs": []
    },
    {
      "cell_type": "code",
      "execution_count": 56,
      "id": "4ae48dc1",
      "metadata": {
        "id": "4ae48dc1",
        "outputId": "e15d3a74-179a-420a-adc0-0e2e10bbbc8c",
        "colab": {
          "base_uri": "https://localhost:8080/"
        }
      },
      "outputs": [
        {
          "output_type": "stream",
          "name": "stdout",
          "text": [
            "Epoch 1/10\n",
            "214/214 [==============================] - 37s 133ms/step - loss: 0.9604 - accuracy: 0.5044 - val_loss: 0.8396 - val_accuracy: 0.6184 - lr: 0.0010\n",
            "Epoch 2/10\n",
            "214/214 [==============================] - ETA: 0s - loss: 0.8356 - accuracy: 0.6287\n",
            "Epoch 2: ReduceLROnPlateau reducing learning rate to 0.00010000000474974513.\n",
            "214/214 [==============================] - 26s 121ms/step - loss: 0.8356 - accuracy: 0.6287 - val_loss: 0.9165 - val_accuracy: 0.6053 - lr: 0.0010\n",
            "Epoch 3/10\n",
            "214/214 [==============================] - 26s 119ms/step - loss: 0.7474 - accuracy: 0.6843 - val_loss: 0.7333 - val_accuracy: 0.6947 - lr: 1.0000e-04\n",
            "Epoch 4/10\n",
            "214/214 [==============================] - ETA: 0s - loss: 0.7053 - accuracy: 0.6995\n",
            "Epoch 4: ReduceLROnPlateau reducing learning rate to 1.0000000474974514e-05.\n",
            "214/214 [==============================] - 25s 119ms/step - loss: 0.7053 - accuracy: 0.6995 - val_loss: 0.7304 - val_accuracy: 0.6895 - lr: 1.0000e-04\n",
            "Epoch 5/10\n",
            "214/214 [==============================] - ETA: 0s - loss: 0.6747 - accuracy: 0.7200\n",
            "Epoch 5: ReduceLROnPlateau reducing learning rate to 1.0000000656873453e-06.\n",
            "214/214 [==============================] - 26s 120ms/step - loss: 0.6747 - accuracy: 0.7200 - val_loss: 0.7242 - val_accuracy: 0.6868 - lr: 1.0000e-05\n",
            "Epoch 6/10\n",
            "214/214 [==============================] - ETA: 0s - loss: 0.6719 - accuracy: 0.7177\n",
            "Epoch 6: ReduceLROnPlateau reducing learning rate to 1e-06.\n",
            "214/214 [==============================] - 26s 120ms/step - loss: 0.6719 - accuracy: 0.7177 - val_loss: 0.7239 - val_accuracy: 0.6868 - lr: 1.0000e-06\n",
            "Epoch 7/10\n",
            "214/214 [==============================] - 26s 123ms/step - loss: 0.6814 - accuracy: 0.7194 - val_loss: 0.7238 - val_accuracy: 0.6895 - lr: 1.0000e-06\n",
            "Epoch 8/10\n",
            "214/214 [==============================] - 26s 120ms/step - loss: 0.6742 - accuracy: 0.7206 - val_loss: 0.7237 - val_accuracy: 0.6895 - lr: 1.0000e-06\n",
            "Epoch 9/10\n",
            "214/214 [==============================] - 25s 119ms/step - loss: 0.6702 - accuracy: 0.7200 - val_loss: 0.7236 - val_accuracy: 0.6895 - lr: 1.0000e-06\n",
            "Epoch 10/10\n",
            "214/214 [==============================] - 25s 119ms/step - loss: 0.6753 - accuracy: 0.7136 - val_loss: 0.7236 - val_accuracy: 0.6895 - lr: 1.0000e-06\n"
          ]
        }
      ],
      "source": [
        "model.compile(loss='sparse_categorical_crossentropy', optimizer='adam', metrics=['accuracy'])\n",
        "\n",
        "history = model.fit(X_train, \n",
        "                    y_train, \n",
        "                    epochs = 10,\n",
        "                    batch_size=16, \n",
        "                    validation_data=(X_val, y_val), \n",
        "                    callbacks=[model_checkpoint, early_stopping, reduce_lr])"
      ]
    },
    {
      "cell_type": "markdown",
      "id": "70c1a840",
      "metadata": {
        "id": "70c1a840"
      },
      "source": [
        "Plotting the training accuracy and loss"
      ]
    },
    {
      "cell_type": "code",
      "execution_count": 57,
      "id": "d8c5332b",
      "metadata": {
        "id": "d8c5332b",
        "outputId": "6de61983-0ef1-422a-8447-fa42ba413086",
        "colab": {
          "base_uri": "https://localhost:8080/",
          "height": 382
        }
      },
      "outputs": [
        {
          "output_type": "stream",
          "name": "stdout",
          "text": [
            "Lowest Validation Loss: epoch 10\n",
            "Highest Validation Accuracy: epoch 3\n"
          ]
        },
        {
          "output_type": "display_data",
          "data": {
            "text/plain": [
              "<Figure size 864x360 with 2 Axes>"
            ],
            "image/png": "[encoded data removed]"
          },
          "metadata": {}
        }
      ],
      "source": [
        "plot_history(history)"
      ]
    },
    {
      "cell_type": "markdown",
      "id": "e6c061f5",
      "metadata": {
        "id": "e6c061f5"
      },
      "source": [
        "Loading the model weights with the best validation accuracy"
      ]
    },
    {
      "cell_type": "code",
      "execution_count": 58,
      "id": "6976f32e",
      "metadata": {
        "id": "6976f32e"
      },
      "outputs": [],
      "source": [
        "epoch_num = get_max_val_acc_epoch(history)\n",
        "model.load_weights(output_dir+\"/weights.\"+epoch_num+\".hdf5\") # Load in model weights"
      ]
    },
    {
      "cell_type": "markdown",
      "id": "da397e6b",
      "metadata": {
        "id": "da397e6b"
      },
      "source": [
        "**Making Inference**"
      ]
    },
    {
      "cell_type": "code",
      "execution_count": 59,
      "id": "6c25a437",
      "metadata": {
        "id": "6c25a437",
        "outputId": "e898cd4d-8381-44e0-a2ab-f81ceb5e9018",
        "colab": {
          "base_uri": "https://localhost:8080/"
        }
      },
      "outputs": [
        {
          "output_type": "stream",
          "name": "stdout",
          "text": [
            "119/119 [==============================] - 21s 162ms/step\n"
          ]
        }
      ],
      "source": [
        "y_test_probs = model.predict(X_test)\n",
        "\n",
        "# Turn probabilities into an interger prediction\n",
        "y_hat = []\n",
        "for prob in y_test_probs:\n",
        "    y_hat.append(np.argmax(prob))"
      ]
    },
    {
      "cell_type": "markdown",
      "id": "c04ff466",
      "metadata": {
        "id": "c04ff466"
      },
      "source": [
        "**Results**"
      ]
    },
    {
      "cell_type": "code",
      "execution_count": 60,
      "id": "2177e936",
      "metadata": {
        "id": "2177e936",
        "outputId": "2d740004-8d58-4d5b-dada-2886a9c16add",
        "colab": {
          "base_uri": "https://localhost:8080/",
          "height": 376
        }
      },
      "outputs": [
        {
          "output_type": "stream",
          "name": "stdout",
          "text": [
            "Accuracy: 0.710637177461822\n"
          ]
        },
        {
          "output_type": "display_data",
          "data": {
            "text/plain": [
              "<Figure size 432x288 with 2 Axes>"
            ],
            "image/png": "[encoded data removed]"
          },
          "metadata": {}
        }
      ],
      "source": [
        "print(\"Accuracy:\", accuracy_score(y_test, y_hat))\n",
        "print_cf2(y_test, y_hat)"
      ]
    },
    {
      "cell_type": "code",
      "execution_count": 61,
      "id": "1be55e03",
      "metadata": {
        "id": "1be55e03",
        "outputId": "61375975-2cc3-4650-a8d6-65d44e8dd290",
        "colab": {
          "base_uri": "https://localhost:8080/"
        }
      },
      "outputs": [
        {
          "output_type": "stream",
          "name": "stdout",
          "text": [
            "              precision    recall  f1-score   support\n",
            "\n",
            "    Negative       0.70      0.78      0.74      1633\n",
            "     Neutral       0.68      0.54      0.60       619\n",
            "    Positive       0.73      0.70      0.72      1546\n",
            "\n",
            "    accuracy                           0.71      3798\n",
            "   macro avg       0.71      0.68      0.69      3798\n",
            "weighted avg       0.71      0.71      0.71      3798\n",
            "\n"
          ]
        }
      ],
      "source": [
        "print(classification_report(y_test, y_hat, target_names=labels_3))"
      ]
    },
    {
      "cell_type": "markdown",
      "source": [
        "#Block 17"
      ],
      "metadata": {
        "id": "ETPsW9TC61ET"
      },
      "id": "ETPsW9TC61ET"
    },
    {
      "cell_type": "markdown",
      "id": "1f5b033c",
      "metadata": {
        "id": "1f5b033c"
      },
      "source": [
        "### Looking at which tweets we guessed incorrectly "
      ]
    },
    {
      "cell_type": "markdown",
      "id": "665141f0",
      "metadata": {
        "id": "665141f0"
      },
      "source": [
        "Observations that were predicted **Negative** (y_hat = 0) but actually **Positive** (y_test = 2)\n",
        "\n",
        "*Printing the first 5 examples*"
      ]
    },
    {
      "cell_type": "code",
      "execution_count": 62,
      "id": "a7e4d75b",
      "metadata": {
        "id": "a7e4d75b",
        "outputId": "87ec0b58-8823-4c99-b0b7-9ceffdc175bd",
        "colab": {
          "base_uri": "https://localhost:8080/"
        }
      },
      "outputs": [
        {
          "output_type": "stream",
          "name": "stdout",
          "text": [
            "That's about a week from now. A bit optimistic.  Probably it will take another month.  Supply chain may be recovering, demand chain will be non-existent in US and Europe for the next month or two.\r\r\n",
            "$spx $qqq $es $nq  \n",
            "\n",
            "#Coronavirus is \"an exposure of all the holes in the social safety net,\" says NELP Government Affairs Director Judy Conti\r\r\n",
            "\r\r\n",
            "#UI #Unemployment #PaidLeaveForAll\r\r\n",
            " \n",
            "\n",
            "For those thinking #seniors #disabled &amp; #vets shouldnt be included in any @realDonaldTrump aid package because of #Covid_19 #coronavirus check prices on antibacterial soaps, disinfectant safer transportation other than crowded city busses list goes on @SenStabenow @RashidaTlaib \n",
            "\n",
            "Ok if #COVID2019 is nothing to panic about why is Italy imposing the biggest restrictions on the civilian population since WW2? \r\r\n",
            "How will the supermarkets be able to provide food if all the workers are told to stay at home? \r\r\n",
            "Same with any other Bussiness. \n",
            "\n",
            "Russia by breaking rank from OPEC+ signalled an intent to take down their nemesis: American oil and gas industry.\r\r\n",
            "\r\r\n",
            "#USElections2020 #COVID2019 #OilWar are steeped in markets least favorite thing: Uncertainty\r\r\n",
            "\r\r\n",
            "But THIS TIME they won't succeed\r\r\n",
            "\r\r\n",
            "Low Oil prices won't last long #OOTT  \n",
            "\n"
          ]
        }
      ],
      "source": [
        "[print(example, '\\n') for example in x_test[(y_test == 2) & (np.asarray(y_hat) == 0)][:5]];"
      ]
    },
    {
      "cell_type": "markdown",
      "id": "4d05679c",
      "metadata": {
        "id": "4d05679c"
      },
      "source": [
        "Observations that were predicted **Positive** (y_hat = 2) but actually **Negative** (y_test = 0)\n",
        "\n",
        "*Printing the first 5 examples*"
      ]
    },
    {
      "cell_type": "code",
      "execution_count": 63,
      "id": "e4061c59",
      "metadata": {
        "id": "e4061c59",
        "outputId": "6efdeba0-360d-4800-c850-fe13e1e28169",
        "colab": {
          "base_uri": "https://localhost:8080/"
        }
      },
      "outputs": [
        {
          "output_type": "stream",
          "name": "stdout",
          "text": [
            "#Panic buying hits #NewYork City as anxious shoppers stock up on food&amp;medical supplies after #healthcare worker in her 30s becomes #BigApple 1st confirmed #coronavirus patient OR a #Bloomberg staged event?\r\r\n",
            "\r\r\n",
            "\r\r\n",
            "\r\r\n",
            "#QAnon #QAnon2018 #QAnon2020 \r\r\n",
            "#Election2020 #CDC  \n",
            "\n",
            "HI TWITTER! I am a pharmacist. I sell hand sanitizer for a living! Or I do when any exists. Like masks, it is sold the fuck out everywhere. SHOULD YOU BE WORRIED? No. Use soap. SHOULD YOU VISIT TWENTY PHARMACIES LOOKING FOR THE LAST BOTTLE? No. Pharmacies are full of sick people. \n",
            "\n",
            "1/25 Part 1 - Why does soap work so well on the SARS-CoV-2, the coronavirus and indeed most viruses? Because it is a self-assembled nanoparticle in which the weakest link is the lipid (fatty) bilayer. A two part thread about soap, viruses and supramolecular chemistry #COVID19  \n",
            "\n",
            "For those self indulging in thoughts of food, medicine and essential household goods stock piling. Like people on universal credit be stock piling FFS!!! #coronavirus \n",
            "\n",
            "Met with members of our distributive trade today to examine their preparation   for the impact of Covid 19. Based on reports our key manufacturers and importers have at least 2 to 3 mths of stock. We therefore do not expect that there will be any shortage in critical food items.  \n",
            "\n"
          ]
        }
      ],
      "source": [
        "[print(example, '\\n') for example in x_test[(y_test == 0) & (np.asarray(y_hat) == 2)][:5]];"
      ]
    }
  ],
  "metadata": {
    "kernelspec": {
      "display_name": "Python 3",
      "language": "python",
      "name": "python3"
    },
    "language_info": {
      "codemirror_mode": {
        "name": "ipython",
        "version": 3
      },
      "file_extension": ".py",
      "mimetype": "text/x-python",
      "name": "python",
      "nbconvert_exporter": "python",
      "pygments_lexer": "ipython3",
      "version": "3.7.11"
    },
    "colab": {
      "provenance": []
    },
    "accelerator": "GPU",
    "gpuClass": "standard",
    "widgets": {
      "application/vnd.jupyter.widget-state+json": {
        "42876beec4f94b30bb5a9e54080b2976": {
          "model_module": "@jupyter-widgets/controls",
          "model_name": "HBoxModel",
          "model_module_version": "1.5.0",
          "state": {
            "_dom_classes": [],
            "_model_module": "@jupyter-widgets/controls",
            "_model_module_version": "1.5.0",
            "_model_name": "HBoxModel",
            "_view_count": null,
            "_view_module": "@jupyter-widgets/controls",
            "_view_module_version": "1.5.0",
            "_view_name": "HBoxView",
            "box_style": "",
            "children": [
              "IPY_MODEL_caa7e322f30f499c93b3aa71a7323877",
              "IPY_MODEL_e913196453a04e9a83ab2d44bf63726e",
              "IPY_MODEL_0d1d50098be54044838fdb2c41d1a6f4"
            ],
            "layout": "IPY_MODEL_a68a423f867b484095ea699c4b11a379"
          }
        },
        "caa7e322f30f499c93b3aa71a7323877": {
          "model_module": "@jupyter-widgets/controls",
          "model_name": "HTMLModel",
          "model_module_version": "1.5.0",
          "state": {
            "_dom_classes": [],
            "_model_module": "@jupyter-widgets/controls",
            "_model_module_version": "1.5.0",
            "_model_name": "HTMLModel",
            "_view_count": null,
            "_view_module": "@jupyter-widgets/controls",
            "_view_module_version": "1.5.0",
            "_view_name": "HTMLView",
            "description": "",
            "description_tooltip": null,
            "layout": "IPY_MODEL_9471030e66354477908be34251e37b06",
            "placeholder": "​",
            "style": "IPY_MODEL_e336a0b88c634403b4fd9f53f6be857e",
            "value": "Downloading: 100%"
          }
        },
        "e913196453a04e9a83ab2d44bf63726e": {
          "model_module": "@jupyter-widgets/controls",
          "model_name": "FloatProgressModel",
          "model_module_version": "1.5.0",
          "state": {
            "_dom_classes": [],
            "_model_module": "@jupyter-widgets/controls",
            "_model_module_version": "1.5.0",
            "_model_name": "FloatProgressModel",
            "_view_count": null,
            "_view_module": "@jupyter-widgets/controls",
            "_view_module_version": "1.5.0",
            "_view_name": "ProgressView",
            "bar_style": "success",
            "description": "",
            "description_tooltip": null,
            "layout": "IPY_MODEL_0f96254b60544acd8fe8e44b6f3b0ad0",
            "max": 213450,
            "min": 0,
            "orientation": "horizontal",
            "style": "IPY_MODEL_55e0fec189c840f99fcbad45e961e3d6",
            "value": 213450
          }
        },
        "0d1d50098be54044838fdb2c41d1a6f4": {
          "model_module": "@jupyter-widgets/controls",
          "model_name": "HTMLModel",
          "model_module_version": "1.5.0",
          "state": {
            "_dom_classes": [],
            "_model_module": "@jupyter-widgets/controls",
            "_model_module_version": "1.5.0",
            "_model_name": "HTMLModel",
            "_view_count": null,
            "_view_module": "@jupyter-widgets/controls",
            "_view_module_version": "1.5.0",
            "_view_name": "HTMLView",
            "description": "",
            "description_tooltip": null,
            "layout": "IPY_MODEL_0a6d725bafc44ba6b9d5c01fc69eead3",
            "placeholder": "​",
            "style": "IPY_MODEL_5b63b8053d0c4e0290af266391e52c3e",
            "value": " 213k/213k [00:00&lt;00:00, 258kB/s]"
          }
        },
        "a68a423f867b484095ea699c4b11a379": {
          "model_module": "@jupyter-widgets/base",
          "model_name": "LayoutModel",
          "model_module_version": "1.2.0",
          "state": {
            "_model_module": "@jupyter-widgets/base",
            "_model_module_version": "1.2.0",
            "_model_name": "LayoutModel",
            "_view_count": null,
            "_view_module": "@jupyter-widgets/base",
            "_view_module_version": "1.2.0",
            "_view_name": "LayoutView",
            "align_content": null,
            "align_items": null,
            "align_self": null,
            "border": null,
            "bottom": null,
            "display": null,
            "flex": null,
            "flex_flow": null,
            "grid_area": null,
            "grid_auto_columns": null,
            "grid_auto_flow": null,
            "grid_auto_rows": null,
            "grid_column": null,
            "grid_gap": null,
            "grid_row": null,
            "grid_template_areas": null,
            "grid_template_columns": null,
            "grid_template_rows": null,
            "height": null,
            "justify_content": null,
            "justify_items": null,
            "left": null,
            "margin": null,
            "max_height": null,
            "max_width": null,
            "min_height": null,
            "min_width": null,
            "object_fit": null,
            "object_position": null,
            "order": null,
            "overflow": null,
            "overflow_x": null,
            "overflow_y": null,
            "padding": null,
            "right": null,
            "top": null,
            "visibility": null,
            "width": null
          }
        },
        "9471030e66354477908be34251e37b06": {
          "model_module": "@jupyter-widgets/base",
          "model_name": "LayoutModel",
          "model_module_version": "1.2.0",
          "state": {
            "_model_module": "@jupyter-widgets/base",
            "_model_module_version": "1.2.0",
            "_model_name": "LayoutModel",
            "_view_count": null,
            "_view_module": "@jupyter-widgets/base",
            "_view_module_version": "1.2.0",
            "_view_name": "LayoutView",
            "align_content": null,
            "align_items": null,
            "align_self": null,
            "border": null,
            "bottom": null,
            "display": null,
            "flex": null,
            "flex_flow": null,
            "grid_area": null,
            "grid_auto_columns": null,
            "grid_auto_flow": null,
            "grid_auto_rows": null,
            "grid_column": null,
            "grid_gap": null,
            "grid_row": null,
            "grid_template_areas": null,
            "grid_template_columns": null,
            "grid_template_rows": null,
            "height": null,
            "justify_content": null,
            "justify_items": null,
            "left": null,
            "margin": null,
            "max_height": null,
            "max_width": null,
            "min_height": null,
            "min_width": null,
            "object_fit": null,
            "object_position": null,
            "order": null,
            "overflow": null,
            "overflow_x": null,
            "overflow_y": null,
            "padding": null,
            "right": null,
            "top": null,
            "visibility": null,
            "width": null
          }
        },
        "e336a0b88c634403b4fd9f53f6be857e": {
          "model_module": "@jupyter-widgets/controls",
          "model_name": "DescriptionStyleModel",
          "model_module_version": "1.5.0",
          "state": {
            "_model_module": "@jupyter-widgets/controls",
            "_model_module_version": "1.5.0",
            "_model_name": "DescriptionStyleModel",
            "_view_count": null,
            "_view_module": "@jupyter-widgets/base",
            "_view_module_version": "1.2.0",
            "_view_name": "StyleView",
            "description_width": ""
          }
        },
        "0f96254b60544acd8fe8e44b6f3b0ad0": {
          "model_module": "@jupyter-widgets/base",
          "model_name": "LayoutModel",
          "model_module_version": "1.2.0",
          "state": {
            "_model_module": "@jupyter-widgets/base",
            "_model_module_version": "1.2.0",
            "_model_name": "LayoutModel",
            "_view_count": null,
            "_view_module": "@jupyter-widgets/base",
            "_view_module_version": "1.2.0",
            "_view_name": "LayoutView",
            "align_content": null,
            "align_items": null,
            "align_self": null,
            "border": null,
            "bottom": null,
            "display": null,
            "flex": null,
            "flex_flow": null,
            "grid_area": null,
            "grid_auto_columns": null,
            "grid_auto_flow": null,
            "grid_auto_rows": null,
            "grid_column": null,
            "grid_gap": null,
            "grid_row": null,
            "grid_template_areas": null,
            "grid_template_columns": null,
            "grid_template_rows": null,
            "height": null,
            "justify_content": null,
            "justify_items": null,
            "left": null,
            "margin": null,
            "max_height": null,
            "max_width": null,
            "min_height": null,
            "min_width": null,
            "object_fit": null,
            "object_position": null,
            "order": null,
            "overflow": null,
            "overflow_x": null,
            "overflow_y": null,
            "padding": null,
            "right": null,
            "top": null,
            "visibility": null,
            "width": null
          }
        },
        "55e0fec189c840f99fcbad45e961e3d6": {
          "model_module": "@jupyter-widgets/controls",
          "model_name": "ProgressStyleModel",
          "model_module_version": "1.5.0",
          "state": {
            "_model_module": "@jupyter-widgets/controls",
            "_model_module_version": "1.5.0",
            "_model_name": "ProgressStyleModel",
            "_view_count": null,
            "_view_module": "@jupyter-widgets/base",
            "_view_module_version": "1.2.0",
            "_view_name": "StyleView",
            "bar_color": null,
            "description_width": ""
          }
        },
        "0a6d725bafc44ba6b9d5c01fc69eead3": {
          "model_module": "@jupyter-widgets/base",
          "model_name": "LayoutModel",
          "model_module_version": "1.2.0",
          "state": {
            "_model_module": "@jupyter-widgets/base",
            "_model_module_version": "1.2.0",
            "_model_name": "LayoutModel",
            "_view_count": null,
            "_view_module": "@jupyter-widgets/base",
            "_view_module_version": "1.2.0",
            "_view_name": "LayoutView",
            "align_content": null,
            "align_items": null,
            "align_self": null,
            "border": null,
            "bottom": null,
            "display": null,
            "flex": null,
            "flex_flow": null,
            "grid_area": null,
            "grid_auto_columns": null,
            "grid_auto_flow": null,
            "grid_auto_rows": null,
            "grid_column": null,
            "grid_gap": null,
            "grid_row": null,
            "grid_template_areas": null,
            "grid_template_columns": null,
            "grid_template_rows": null,
            "height": null,
            "justify_content": null,
            "justify_items": null,
            "left": null,
            "margin": null,
            "max_height": null,
            "max_width": null,
            "min_height": null,
            "min_width": null,
            "object_fit": null,
            "object_position": null,
            "order": null,
            "overflow": null,
            "overflow_x": null,
            "overflow_y": null,
            "padding": null,
            "right": null,
            "top": null,
            "visibility": null,
            "width": null
          }
        },
        "5b63b8053d0c4e0290af266391e52c3e": {
          "model_module": "@jupyter-widgets/controls",
          "model_name": "DescriptionStyleModel",
          "model_module_version": "1.5.0",
          "state": {
            "_model_module": "@jupyter-widgets/controls",
            "_model_module_version": "1.5.0",
            "_model_name": "DescriptionStyleModel",
            "_view_count": null,
            "_view_module": "@jupyter-widgets/base",
            "_view_module_version": "1.2.0",
            "_view_name": "StyleView",
            "description_width": ""
          }
        },
        "b7afcfdae2b54ec7adce9c8db8483383": {
          "model_module": "@jupyter-widgets/controls",
          "model_name": "HBoxModel",
          "model_module_version": "1.5.0",
          "state": {
            "_dom_classes": [],
            "_model_module": "@jupyter-widgets/controls",
            "_model_module_version": "1.5.0",
            "_model_name": "HBoxModel",
            "_view_count": null,
            "_view_module": "@jupyter-widgets/controls",
            "_view_module_version": "1.5.0",
            "_view_name": "HBoxView",
            "box_style": "",
            "children": [
              "IPY_MODEL_b2f4ce1e15ec412cb58149c159750c40",
              "IPY_MODEL_85b8b8d6903d49eab7b12b3f12e710e6",
              "IPY_MODEL_d9026ab58ee344459ecd976f9d042188"
            ],
            "layout": "IPY_MODEL_bc28528acb984b298eeb689b8df7ca76"
          }
        },
        "b2f4ce1e15ec412cb58149c159750c40": {
          "model_module": "@jupyter-widgets/controls",
          "model_name": "HTMLModel",
          "model_module_version": "1.5.0",
          "state": {
            "_dom_classes": [],
            "_model_module": "@jupyter-widgets/controls",
            "_model_module_version": "1.5.0",
            "_model_name": "HTMLModel",
            "_view_count": null,
            "_view_module": "@jupyter-widgets/controls",
            "_view_module_version": "1.5.0",
            "_view_name": "HTMLView",
            "description": "",
            "description_tooltip": null,
            "layout": "IPY_MODEL_2d9d6b6483334355850ff22d4fec4fd4",
            "placeholder": "​",
            "style": "IPY_MODEL_2fde9fe02fe8437781d241609f364d71",
            "value": "Downloading: 100%"
          }
        },
        "85b8b8d6903d49eab7b12b3f12e710e6": {
          "model_module": "@jupyter-widgets/controls",
          "model_name": "FloatProgressModel",
          "model_module_version": "1.5.0",
          "state": {
            "_dom_classes": [],
            "_model_module": "@jupyter-widgets/controls",
            "_model_module_version": "1.5.0",
            "_model_name": "FloatProgressModel",
            "_view_count": null,
            "_view_module": "@jupyter-widgets/controls",
            "_view_module_version": "1.5.0",
            "_view_name": "ProgressView",
            "bar_style": "success",
            "description": "",
            "description_tooltip": null,
            "layout": "IPY_MODEL_ec38e06622b54a09a64a405658f4b218",
            "max": 29,
            "min": 0,
            "orientation": "horizontal",
            "style": "IPY_MODEL_bc18684403f44d0490c76bec1a5f386b",
            "value": 29
          }
        },
        "d9026ab58ee344459ecd976f9d042188": {
          "model_module": "@jupyter-widgets/controls",
          "model_name": "HTMLModel",
          "model_module_version": "1.5.0",
          "state": {
            "_dom_classes": [],
            "_model_module": "@jupyter-widgets/controls",
            "_model_module_version": "1.5.0",
            "_model_name": "HTMLModel",
            "_view_count": null,
            "_view_module": "@jupyter-widgets/controls",
            "_view_module_version": "1.5.0",
            "_view_name": "HTMLView",
            "description": "",
            "description_tooltip": null,
            "layout": "IPY_MODEL_a0375d66c5e74014bab53291b344fc90",
            "placeholder": "​",
            "style": "IPY_MODEL_4c79407775074f78b4c9bf826e11156a",
            "value": " 29.0/29.0 [00:00&lt;00:00, 1.10kB/s]"
          }
        },
        "bc28528acb984b298eeb689b8df7ca76": {
          "model_module": "@jupyter-widgets/base",
          "model_name": "LayoutModel",
          "model_module_version": "1.2.0",
          "state": {
            "_model_module": "@jupyter-widgets/base",
            "_model_module_version": "1.2.0",
            "_model_name": "LayoutModel",
            "_view_count": null,
            "_view_module": "@jupyter-widgets/base",
            "_view_module_version": "1.2.0",
            "_view_name": "LayoutView",
            "align_content": null,
            "align_items": null,
            "align_self": null,
            "border": null,
            "bottom": null,
            "display": null,
            "flex": null,
            "flex_flow": null,
            "grid_area": null,
            "grid_auto_columns": null,
            "grid_auto_flow": null,
            "grid_auto_rows": null,
            "grid_column": null,
            "grid_gap": null,
            "grid_row": null,
            "grid_template_areas": null,
            "grid_template_columns": null,
            "grid_template_rows": null,
            "height": null,
            "justify_content": null,
            "justify_items": null,
            "left": null,
            "margin": null,
            "max_height": null,
            "max_width": null,
            "min_height": null,
            "min_width": null,
            "object_fit": null,
            "object_position": null,
            "order": null,
            "overflow": null,
            "overflow_x": null,
            "overflow_y": null,
            "padding": null,
            "right": null,
            "top": null,
            "visibility": null,
            "width": null
          }
        },
        "2d9d6b6483334355850ff22d4fec4fd4": {
          "model_module": "@jupyter-widgets/base",
          "model_name": "LayoutModel",
          "model_module_version": "1.2.0",
          "state": {
            "_model_module": "@jupyter-widgets/base",
            "_model_module_version": "1.2.0",
            "_model_name": "LayoutModel",
            "_view_count": null,
            "_view_module": "@jupyter-widgets/base",
            "_view_module_version": "1.2.0",
            "_view_name": "LayoutView",
            "align_content": null,
            "align_items": null,
            "align_self": null,
            "border": null,
            "bottom": null,
            "display": null,
            "flex": null,
            "flex_flow": null,
            "grid_area": null,
            "grid_auto_columns": null,
            "grid_auto_flow": null,
            "grid_auto_rows": null,
            "grid_column": null,
            "grid_gap": null,
            "grid_row": null,
            "grid_template_areas": null,
            "grid_template_columns": null,
            "grid_template_rows": null,
            "height": null,
            "justify_content": null,
            "justify_items": null,
            "left": null,
            "margin": null,
            "max_height": null,
            "max_width": null,
            "min_height": null,
            "min_width": null,
            "object_fit": null,
            "object_position": null,
            "order": null,
            "overflow": null,
            "overflow_x": null,
            "overflow_y": null,
            "padding": null,
            "right": null,
            "top": null,
            "visibility": null,
            "width": null
          }
        },
        "2fde9fe02fe8437781d241609f364d71": {
          "model_module": "@jupyter-widgets/controls",
          "model_name": "DescriptionStyleModel",
          "model_module_version": "1.5.0",
          "state": {
            "_model_module": "@jupyter-widgets/controls",
            "_model_module_version": "1.5.0",
            "_model_name": "DescriptionStyleModel",
            "_view_count": null,
            "_view_module": "@jupyter-widgets/base",
            "_view_module_version": "1.2.0",
            "_view_name": "StyleView",
            "description_width": ""
          }
        },
        "ec38e06622b54a09a64a405658f4b218": {
          "model_module": "@jupyter-widgets/base",
          "model_name": "LayoutModel",
          "model_module_version": "1.2.0",
          "state": {
            "_model_module": "@jupyter-widgets/base",
            "_model_module_version": "1.2.0",
            "_model_name": "LayoutModel",
            "_view_count": null,
            "_view_module": "@jupyter-widgets/base",
            "_view_module_version": "1.2.0",
            "_view_name": "LayoutView",
            "align_content": null,
            "align_items": null,
            "align_self": null,
            "border": null,
            "bottom": null,
            "display": null,
            "flex": null,
            "flex_flow": null,
            "grid_area": null,
            "grid_auto_columns": null,
            "grid_auto_flow": null,
            "grid_auto_rows": null,
            "grid_column": null,
            "grid_gap": null,
            "grid_row": null,
            "grid_template_areas": null,
            "grid_template_columns": null,
            "grid_template_rows": null,
            "height": null,
            "justify_content": null,
            "justify_items": null,
            "left": null,
            "margin": null,
            "max_height": null,
            "max_width": null,
            "min_height": null,
            "min_width": null,
            "object_fit": null,
            "object_position": null,
            "order": null,
            "overflow": null,
            "overflow_x": null,
            "overflow_y": null,
            "padding": null,
            "right": null,
            "top": null,
            "visibility": null,
            "width": null
          }
        },
        "bc18684403f44d0490c76bec1a5f386b": {
          "model_module": "@jupyter-widgets/controls",
          "model_name": "ProgressStyleModel",
          "model_module_version": "1.5.0",
          "state": {
            "_model_module": "@jupyter-widgets/controls",
            "_model_module_version": "1.5.0",
            "_model_name": "ProgressStyleModel",
            "_view_count": null,
            "_view_module": "@jupyter-widgets/base",
            "_view_module_version": "1.2.0",
            "_view_name": "StyleView",
            "bar_color": null,
            "description_width": ""
          }
        },
        "a0375d66c5e74014bab53291b344fc90": {
          "model_module": "@jupyter-widgets/base",
          "model_name": "LayoutModel",
          "model_module_version": "1.2.0",
          "state": {
            "_model_module": "@jupyter-widgets/base",
            "_model_module_version": "1.2.0",
            "_model_name": "LayoutModel",
            "_view_count": null,
            "_view_module": "@jupyter-widgets/base",
            "_view_module_version": "1.2.0",
            "_view_name": "LayoutView",
            "align_content": null,
            "align_items": null,
            "align_self": null,
            "border": null,
            "bottom": null,
            "display": null,
            "flex": null,
            "flex_flow": null,
            "grid_area": null,
            "grid_auto_columns": null,
            "grid_auto_flow": null,
            "grid_auto_rows": null,
            "grid_column": null,
            "grid_gap": null,
            "grid_row": null,
            "grid_template_areas": null,
            "grid_template_columns": null,
            "grid_template_rows": null,
            "height": null,
            "justify_content": null,
            "justify_items": null,
            "left": null,
            "margin": null,
            "max_height": null,
            "max_width": null,
            "min_height": null,
            "min_width": null,
            "object_fit": null,
            "object_position": null,
            "order": null,
            "overflow": null,
            "overflow_x": null,
            "overflow_y": null,
            "padding": null,
            "right": null,
            "top": null,
            "visibility": null,
            "width": null
          }
        },
        "4c79407775074f78b4c9bf826e11156a": {
          "model_module": "@jupyter-widgets/controls",
          "model_name": "DescriptionStyleModel",
          "model_module_version": "1.5.0",
          "state": {
            "_model_module": "@jupyter-widgets/controls",
            "_model_module_version": "1.5.0",
            "_model_name": "DescriptionStyleModel",
            "_view_count": null,
            "_view_module": "@jupyter-widgets/base",
            "_view_module_version": "1.2.0",
            "_view_name": "StyleView",
            "description_width": ""
          }
        },
        "ebb5ad6d011c4d77995a6d201c43021e": {
          "model_module": "@jupyter-widgets/controls",
          "model_name": "HBoxModel",
          "model_module_version": "1.5.0",
          "state": {
            "_dom_classes": [],
            "_model_module": "@jupyter-widgets/controls",
            "_model_module_version": "1.5.0",
            "_model_name": "HBoxModel",
            "_view_count": null,
            "_view_module": "@jupyter-widgets/controls",
            "_view_module_version": "1.5.0",
            "_view_name": "HBoxView",
            "box_style": "",
            "children": [
              "IPY_MODEL_1d05006f28ae4094a6f2aa142bcad545",
              "IPY_MODEL_d16d471623334564b65046d8684dd2df",
              "IPY_MODEL_46471cc66a6d453a804bc2bdb4ca6131"
            ],
            "layout": "IPY_MODEL_0cff7d8c704240b8803cfe0b4ad7b56b"
          }
        },
        "1d05006f28ae4094a6f2aa142bcad545": {
          "model_module": "@jupyter-widgets/controls",
          "model_name": "HTMLModel",
          "model_module_version": "1.5.0",
          "state": {
            "_dom_classes": [],
            "_model_module": "@jupyter-widgets/controls",
            "_model_module_version": "1.5.0",
            "_model_name": "HTMLModel",
            "_view_count": null,
            "_view_module": "@jupyter-widgets/controls",
            "_view_module_version": "1.5.0",
            "_view_name": "HTMLView",
            "description": "",
            "description_tooltip": null,
            "layout": "IPY_MODEL_7a9d07a745d34235b1f73dfa55d3b41d",
            "placeholder": "​",
            "style": "IPY_MODEL_905e94e65b5c4f79af069486eb14063a",
            "value": "Downloading: 100%"
          }
        },
        "d16d471623334564b65046d8684dd2df": {
          "model_module": "@jupyter-widgets/controls",
          "model_name": "FloatProgressModel",
          "model_module_version": "1.5.0",
          "state": {
            "_dom_classes": [],
            "_model_module": "@jupyter-widgets/controls",
            "_model_module_version": "1.5.0",
            "_model_name": "FloatProgressModel",
            "_view_count": null,
            "_view_module": "@jupyter-widgets/controls",
            "_view_module_version": "1.5.0",
            "_view_name": "ProgressView",
            "bar_style": "success",
            "description": "",
            "description_tooltip": null,
            "layout": "IPY_MODEL_5df8474bda704e9d8e54dba76b38d828",
            "max": 411,
            "min": 0,
            "orientation": "horizontal",
            "style": "IPY_MODEL_fa4a4d501d1a4d66b20cee1fd9cc52a0",
            "value": 411
          }
        },
        "46471cc66a6d453a804bc2bdb4ca6131": {
          "model_module": "@jupyter-widgets/controls",
          "model_name": "HTMLModel",
          "model_module_version": "1.5.0",
          "state": {
            "_dom_classes": [],
            "_model_module": "@jupyter-widgets/controls",
            "_model_module_version": "1.5.0",
            "_model_name": "HTMLModel",
            "_view_count": null,
            "_view_module": "@jupyter-widgets/controls",
            "_view_module_version": "1.5.0",
            "_view_name": "HTMLView",
            "description": "",
            "description_tooltip": null,
            "layout": "IPY_MODEL_3917503976ae45e1a8fc7366594fcd53",
            "placeholder": "​",
            "style": "IPY_MODEL_cd31a9b7fa444e59af80831b2baed7c5",
            "value": " 411/411 [00:00&lt;00:00, 14.0kB/s]"
          }
        },
        "0cff7d8c704240b8803cfe0b4ad7b56b": {
          "model_module": "@jupyter-widgets/base",
          "model_name": "LayoutModel",
          "model_module_version": "1.2.0",
          "state": {
            "_model_module": "@jupyter-widgets/base",
            "_model_module_version": "1.2.0",
            "_model_name": "LayoutModel",
            "_view_count": null,
            "_view_module": "@jupyter-widgets/base",
            "_view_module_version": "1.2.0",
            "_view_name": "LayoutView",
            "align_content": null,
            "align_items": null,
            "align_self": null,
            "border": null,
            "bottom": null,
            "display": null,
            "flex": null,
            "flex_flow": null,
            "grid_area": null,
            "grid_auto_columns": null,
            "grid_auto_flow": null,
            "grid_auto_rows": null,
            "grid_column": null,
            "grid_gap": null,
            "grid_row": null,
            "grid_template_areas": null,
            "grid_template_columns": null,
            "grid_template_rows": null,
            "height": null,
            "justify_content": null,
            "justify_items": null,
            "left": null,
            "margin": null,
            "max_height": null,
            "max_width": null,
            "min_height": null,
            "min_width": null,
            "object_fit": null,
            "object_position": null,
            "order": null,
            "overflow": null,
            "overflow_x": null,
            "overflow_y": null,
            "padding": null,
            "right": null,
            "top": null,
            "visibility": null,
            "width": null
          }
        },
        "7a9d07a745d34235b1f73dfa55d3b41d": {
          "model_module": "@jupyter-widgets/base",
          "model_name": "LayoutModel",
          "model_module_version": "1.2.0",
          "state": {
            "_model_module": "@jupyter-widgets/base",
            "_model_module_version": "1.2.0",
            "_model_name": "LayoutModel",
            "_view_count": null,
            "_view_module": "@jupyter-widgets/base",
            "_view_module_version": "1.2.0",
            "_view_name": "LayoutView",
            "align_content": null,
            "align_items": null,
            "align_self": null,
            "border": null,
            "bottom": null,
            "display": null,
            "flex": null,
            "flex_flow": null,
            "grid_area": null,
            "grid_auto_columns": null,
            "grid_auto_flow": null,
            "grid_auto_rows": null,
            "grid_column": null,
            "grid_gap": null,
            "grid_row": null,
            "grid_template_areas": null,
            "grid_template_columns": null,
            "grid_template_rows": null,
            "height": null,
            "justify_content": null,
            "justify_items": null,
            "left": null,
            "margin": null,
            "max_height": null,
            "max_width": null,
            "min_height": null,
            "min_width": null,
            "object_fit": null,
            "object_position": null,
            "order": null,
            "overflow": null,
            "overflow_x": null,
            "overflow_y": null,
            "padding": null,
            "right": null,
            "top": null,
            "visibility": null,
            "width": null
          }
        },
        "905e94e65b5c4f79af069486eb14063a": {
          "model_module": "@jupyter-widgets/controls",
          "model_name": "DescriptionStyleModel",
          "model_module_version": "1.5.0",
          "state": {
            "_model_module": "@jupyter-widgets/controls",
            "_model_module_version": "1.5.0",
            "_model_name": "DescriptionStyleModel",
            "_view_count": null,
            "_view_module": "@jupyter-widgets/base",
            "_view_module_version": "1.2.0",
            "_view_name": "StyleView",
            "description_width": ""
          }
        },
        "5df8474bda704e9d8e54dba76b38d828": {
          "model_module": "@jupyter-widgets/base",
          "model_name": "LayoutModel",
          "model_module_version": "1.2.0",
          "state": {
            "_model_module": "@jupyter-widgets/base",
            "_model_module_version": "1.2.0",
            "_model_name": "LayoutModel",
            "_view_count": null,
            "_view_module": "@jupyter-widgets/base",
            "_view_module_version": "1.2.0",
            "_view_name": "LayoutView",
            "align_content": null,
            "align_items": null,
            "align_self": null,
            "border": null,
            "bottom": null,
            "display": null,
            "flex": null,
            "flex_flow": null,
            "grid_area": null,
            "grid_auto_columns": null,
            "grid_auto_flow": null,
            "grid_auto_rows": null,
            "grid_column": null,
            "grid_gap": null,
            "grid_row": null,
            "grid_template_areas": null,
            "grid_template_columns": null,
            "grid_template_rows": null,
            "height": null,
            "justify_content": null,
            "justify_items": null,
            "left": null,
            "margin": null,
            "max_height": null,
            "max_width": null,
            "min_height": null,
            "min_width": null,
            "object_fit": null,
            "object_position": null,
            "order": null,
            "overflow": null,
            "overflow_x": null,
            "overflow_y": null,
            "padding": null,
            "right": null,
            "top": null,
            "visibility": null,
            "width": null
          }
        },
        "fa4a4d501d1a4d66b20cee1fd9cc52a0": {
          "model_module": "@jupyter-widgets/controls",
          "model_name": "ProgressStyleModel",
          "model_module_version": "1.5.0",
          "state": {
            "_model_module": "@jupyter-widgets/controls",
            "_model_module_version": "1.5.0",
            "_model_name": "ProgressStyleModel",
            "_view_count": null,
            "_view_module": "@jupyter-widgets/base",
            "_view_module_version": "1.2.0",
            "_view_name": "StyleView",
            "bar_color": null,
            "description_width": ""
          }
        },
        "3917503976ae45e1a8fc7366594fcd53": {
          "model_module": "@jupyter-widgets/base",
          "model_name": "LayoutModel",
          "model_module_version": "1.2.0",
          "state": {
            "_model_module": "@jupyter-widgets/base",
            "_model_module_version": "1.2.0",
            "_model_name": "LayoutModel",
            "_view_count": null,
            "_view_module": "@jupyter-widgets/base",
            "_view_module_version": "1.2.0",
            "_view_name": "LayoutView",
            "align_content": null,
            "align_items": null,
            "align_self": null,
            "border": null,
            "bottom": null,
            "display": null,
            "flex": null,
            "flex_flow": null,
            "grid_area": null,
            "grid_auto_columns": null,
            "grid_auto_flow": null,
            "grid_auto_rows": null,
            "grid_column": null,
            "grid_gap": null,
            "grid_row": null,
            "grid_template_areas": null,
            "grid_template_columns": null,
            "grid_template_rows": null,
            "height": null,
            "justify_content": null,
            "justify_items": null,
            "left": null,
            "margin": null,
            "max_height": null,
            "max_width": null,
            "min_height": null,
            "min_width": null,
            "object_fit": null,
            "object_position": null,
            "order": null,
            "overflow": null,
            "overflow_x": null,
            "overflow_y": null,
            "padding": null,
            "right": null,
            "top": null,
            "visibility": null,
            "width": null
          }
        },
        "cd31a9b7fa444e59af80831b2baed7c5": {
          "model_module": "@jupyter-widgets/controls",
          "model_name": "DescriptionStyleModel",
          "model_module_version": "1.5.0",
          "state": {
            "_model_module": "@jupyter-widgets/controls",
            "_model_module_version": "1.5.0",
            "_model_name": "DescriptionStyleModel",
            "_view_count": null,
            "_view_module": "@jupyter-widgets/base",
            "_view_module_version": "1.2.0",
            "_view_name": "StyleView",
            "description_width": ""
          }
        },
        "82750187d74f44f99b2b22e7733cab8e": {
          "model_module": "@jupyter-widgets/controls",
          "model_name": "HBoxModel",
          "model_module_version": "1.5.0",
          "state": {
            "_dom_classes": [],
            "_model_module": "@jupyter-widgets/controls",
            "_model_module_version": "1.5.0",
            "_model_name": "HBoxModel",
            "_view_count": null,
            "_view_module": "@jupyter-widgets/controls",
            "_view_module_version": "1.5.0",
            "_view_name": "HBoxView",
            "box_style": "",
            "children": [
              "IPY_MODEL_7cee66ba2e59426aaab8ad5bae9fb991",
              "IPY_MODEL_fa199c6f078746c5aecc3af53815b50e",
              "IPY_MODEL_c65bfc33edb541eab59e7bfaeec898f5"
            ],
            "layout": "IPY_MODEL_661d22c4e8904fce81720973acdca054"
          }
        },
        "7cee66ba2e59426aaab8ad5bae9fb991": {
          "model_module": "@jupyter-widgets/controls",
          "model_name": "HTMLModel",
          "model_module_version": "1.5.0",
          "state": {
            "_dom_classes": [],
            "_model_module": "@jupyter-widgets/controls",
            "_model_module_version": "1.5.0",
            "_model_name": "HTMLModel",
            "_view_count": null,
            "_view_module": "@jupyter-widgets/controls",
            "_view_module_version": "1.5.0",
            "_view_name": "HTMLView",
            "description": "",
            "description_tooltip": null,
            "layout": "IPY_MODEL_a73fe073a6854b7bba7e7a66e5f07235",
            "placeholder": "​",
            "style": "IPY_MODEL_4d9ff926b7f046acb04244a57ddec2ac",
            "value": "Downloading: 100%"
          }
        },
        "fa199c6f078746c5aecc3af53815b50e": {
          "model_module": "@jupyter-widgets/controls",
          "model_name": "FloatProgressModel",
          "model_module_version": "1.5.0",
          "state": {
            "_dom_classes": [],
            "_model_module": "@jupyter-widgets/controls",
            "_model_module_version": "1.5.0",
            "_model_name": "FloatProgressModel",
            "_view_count": null,
            "_view_module": "@jupyter-widgets/controls",
            "_view_module_version": "1.5.0",
            "_view_name": "ProgressView",
            "bar_style": "success",
            "description": "",
            "description_tooltip": null,
            "layout": "IPY_MODEL_8565e7aa9ed04dddaece1804f55bfd52",
            "max": 354041576,
            "min": 0,
            "orientation": "horizontal",
            "style": "IPY_MODEL_44adbbbfb1614fb2b52686104d62bc66",
            "value": 354041576
          }
        },
        "c65bfc33edb541eab59e7bfaeec898f5": {
          "model_module": "@jupyter-widgets/controls",
          "model_name": "HTMLModel",
          "model_module_version": "1.5.0",
          "state": {
            "_dom_classes": [],
            "_model_module": "@jupyter-widgets/controls",
            "_model_module_version": "1.5.0",
            "_model_name": "HTMLModel",
            "_view_count": null,
            "_view_module": "@jupyter-widgets/controls",
            "_view_module_version": "1.5.0",
            "_view_name": "HTMLView",
            "description": "",
            "description_tooltip": null,
            "layout": "IPY_MODEL_e37eafc7c3d24018bed922fafbeea9dd",
            "placeholder": "​",
            "style": "IPY_MODEL_c3647a9d488d47249aea933402cc5e9f",
            "value": " 354M/354M [00:19&lt;00:00, 19.9MB/s]"
          }
        },
        "661d22c4e8904fce81720973acdca054": {
          "model_module": "@jupyter-widgets/base",
          "model_name": "LayoutModel",
          "model_module_version": "1.2.0",
          "state": {
            "_model_module": "@jupyter-widgets/base",
            "_model_module_version": "1.2.0",
            "_model_name": "LayoutModel",
            "_view_count": null,
            "_view_module": "@jupyter-widgets/base",
            "_view_module_version": "1.2.0",
            "_view_name": "LayoutView",
            "align_content": null,
            "align_items": null,
            "align_self": null,
            "border": null,
            "bottom": null,
            "display": null,
            "flex": null,
            "flex_flow": null,
            "grid_area": null,
            "grid_auto_columns": null,
            "grid_auto_flow": null,
            "grid_auto_rows": null,
            "grid_column": null,
            "grid_gap": null,
            "grid_row": null,
            "grid_template_areas": null,
            "grid_template_columns": null,
            "grid_template_rows": null,
            "height": null,
            "justify_content": null,
            "justify_items": null,
            "left": null,
            "margin": null,
            "max_height": null,
            "max_width": null,
            "min_height": null,
            "min_width": null,
            "object_fit": null,
            "object_position": null,
            "order": null,
            "overflow": null,
            "overflow_x": null,
            "overflow_y": null,
            "padding": null,
            "right": null,
            "top": null,
            "visibility": null,
            "width": null
          }
        },
        "a73fe073a6854b7bba7e7a66e5f07235": {
          "model_module": "@jupyter-widgets/base",
          "model_name": "LayoutModel",
          "model_module_version": "1.2.0",
          "state": {
            "_model_module": "@jupyter-widgets/base",
            "_model_module_version": "1.2.0",
            "_model_name": "LayoutModel",
            "_view_count": null,
            "_view_module": "@jupyter-widgets/base",
            "_view_module_version": "1.2.0",
            "_view_name": "LayoutView",
            "align_content": null,
            "align_items": null,
            "align_self": null,
            "border": null,
            "bottom": null,
            "display": null,
            "flex": null,
            "flex_flow": null,
            "grid_area": null,
            "grid_auto_columns": null,
            "grid_auto_flow": null,
            "grid_auto_rows": null,
            "grid_column": null,
            "grid_gap": null,
            "grid_row": null,
            "grid_template_areas": null,
            "grid_template_columns": null,
            "grid_template_rows": null,
            "height": null,
            "justify_content": null,
            "justify_items": null,
            "left": null,
            "margin": null,
            "max_height": null,
            "max_width": null,
            "min_height": null,
            "min_width": null,
            "object_fit": null,
            "object_position": null,
            "order": null,
            "overflow": null,
            "overflow_x": null,
            "overflow_y": null,
            "padding": null,
            "right": null,
            "top": null,
            "visibility": null,
            "width": null
          }
        },
        "4d9ff926b7f046acb04244a57ddec2ac": {
          "model_module": "@jupyter-widgets/controls",
          "model_name": "DescriptionStyleModel",
          "model_module_version": "1.5.0",
          "state": {
            "_model_module": "@jupyter-widgets/controls",
            "_model_module_version": "1.5.0",
            "_model_name": "DescriptionStyleModel",
            "_view_count": null,
            "_view_module": "@jupyter-widgets/base",
            "_view_module_version": "1.2.0",
            "_view_name": "StyleView",
            "description_width": ""
          }
        },
        "8565e7aa9ed04dddaece1804f55bfd52": {
          "model_module": "@jupyter-widgets/base",
          "model_name": "LayoutModel",
          "model_module_version": "1.2.0",
          "state": {
            "_model_module": "@jupyter-widgets/base",
            "_model_module_version": "1.2.0",
            "_model_name": "LayoutModel",
            "_view_count": null,
            "_view_module": "@jupyter-widgets/base",
            "_view_module_version": "1.2.0",
            "_view_name": "LayoutView",
            "align_content": null,
            "align_items": null,
            "align_self": null,
            "border": null,
            "bottom": null,
            "display": null,
            "flex": null,
            "flex_flow": null,
            "grid_area": null,
            "grid_auto_columns": null,
            "grid_auto_flow": null,
            "grid_auto_rows": null,
            "grid_column": null,
            "grid_gap": null,
            "grid_row": null,
            "grid_template_areas": null,
            "grid_template_columns": null,
            "grid_template_rows": null,
            "height": null,
            "justify_content": null,
            "justify_items": null,
            "left": null,
            "margin": null,
            "max_height": null,
            "max_width": null,
            "min_height": null,
            "min_width": null,
            "object_fit": null,
            "object_position": null,
            "order": null,
            "overflow": null,
            "overflow_x": null,
            "overflow_y": null,
            "padding": null,
            "right": null,
            "top": null,
            "visibility": null,
            "width": null
          }
        },
        "44adbbbfb1614fb2b52686104d62bc66": {
          "model_module": "@jupyter-widgets/controls",
          "model_name": "ProgressStyleModel",
          "model_module_version": "1.5.0",
          "state": {
            "_model_module": "@jupyter-widgets/controls",
            "_model_module_version": "1.5.0",
            "_model_name": "ProgressStyleModel",
            "_view_count": null,
            "_view_module": "@jupyter-widgets/base",
            "_view_module_version": "1.2.0",
            "_view_name": "StyleView",
            "bar_color": null,
            "description_width": ""
          }
        },
        "e37eafc7c3d24018bed922fafbeea9dd": {
          "model_module": "@jupyter-widgets/base",
          "model_name": "LayoutModel",
          "model_module_version": "1.2.0",
          "state": {
            "_model_module": "@jupyter-widgets/base",
            "_model_module_version": "1.2.0",
            "_model_name": "LayoutModel",
            "_view_count": null,
            "_view_module": "@jupyter-widgets/base",
            "_view_module_version": "1.2.0",
            "_view_name": "LayoutView",
            "align_content": null,
            "align_items": null,
            "align_self": null,
            "border": null,
            "bottom": null,
            "display": null,
            "flex": null,
            "flex_flow": null,
            "grid_area": null,
            "grid_auto_columns": null,
            "grid_auto_flow": null,
            "grid_auto_rows": null,
            "grid_column": null,
            "grid_gap": null,
            "grid_row": null,
            "grid_template_areas": null,
            "grid_template_columns": null,
            "grid_template_rows": null,
            "height": null,
            "justify_content": null,
            "justify_items": null,
            "left": null,
            "margin": null,
            "max_height": null,
            "max_width": null,
            "min_height": null,
            "min_width": null,
            "object_fit": null,
            "object_position": null,
            "order": null,
            "overflow": null,
            "overflow_x": null,
            "overflow_y": null,
            "padding": null,
            "right": null,
            "top": null,
            "visibility": null,
            "width": null
          }
        },
        "c3647a9d488d47249aea933402cc5e9f": {
          "model_module": "@jupyter-widgets/controls",
          "model_name": "DescriptionStyleModel",
          "model_module_version": "1.5.0",
          "state": {
            "_model_module": "@jupyter-widgets/controls",
            "_model_module_version": "1.5.0",
            "_model_name": "DescriptionStyleModel",
            "_view_count": null,
            "_view_module": "@jupyter-widgets/base",
            "_view_module_version": "1.2.0",
            "_view_name": "StyleView",
            "description_width": ""
          }
        }
      }
    }
  },
  "nbformat": 4,
  "nbformat_minor": 5
}